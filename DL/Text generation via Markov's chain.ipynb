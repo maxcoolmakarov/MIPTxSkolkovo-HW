{
 "cells": [
  {
   "cell_type": "code",
   "execution_count": 46,
   "id": "14019b29",
   "metadata": {},
   "outputs": [],
   "source": [
    "import scipy.sparse\n",
    "from sklearn.preprocessing import normalize\n",
    "import numpy as np\n",
    "import re\n",
    "import warnings\n",
    "\n",
    "class MarkovChain:\n",
    "    def __init__(self, input_text, n=2):\n",
    "        self.n = n\n",
    "\n",
    "        self.tokens = input_text.split(' ')\n",
    "        word_counts = Counter(self.tokens)\n",
    "        self.tokens_distinct = sorted(word_counts, key=word_counts.get, reverse=True)\n",
    "        \n",
    "        index_to_word = {index: word for index, word in enumerate(uniq_words)}\n",
    "        word_to_index = {word: index for index, word in enumerate(uniq_words)}\n",
    "        \n",
    "        self.ngrams, self.ngrams_distinct = self.create_ngrams()\n",
    "        self.token2ind, self.ind2token = word_to_index, index_to_word\n",
    "        self.ngram2ind, self.ind2ngram = self.create_ngrams_mapping()\n",
    "        self.transition_matrix_prob = self.create_transition_matrix_prob()\n",
    "\n",
    "    def create_ngrams(self):\n",
    "        sequences = [self.tokens[i:] for i in range(self.n)]\n",
    "        ngrams = [' '.join(ngram) for ngram in list(zip(*sequences))]\n",
    "        return ngrams, list(set(ngrams))\n",
    "    \n",
    "    def create_ngrams_mapping(self):\n",
    "        counts = Counter(self.ngrams)\n",
    "        ngrams = sorted(counts, key=counts.get, reverse=True)\n",
    "        index_to_ngram = {index: word for index, word in enumerate(ngrams)}\n",
    "        ngram_to_index = {word: index for index, word in enumerate(ngrams)}\n",
    "        return ngram_to_index, index_to_ngram\n",
    "\n",
    "    def tokens_info(self):\n",
    "        self.text_object.tokens_info()\n",
    "\n",
    "    def ngrams_info(self):\n",
    "        print('ngrams level: %d, total ngrams: %d, distinct ngrams: %d' % (\n",
    "        self.n, len(self.ngrams), len(self.ngrams_distinct)))\n",
    "\n",
    "    def random_ngram(self):\n",
    "        return np.random.choice(self.ngrams)\n",
    "\n",
    "    def create_transition_matrix(self):\n",
    "        row_ind, col_ind, values = [], [], []\n",
    "\n",
    "        for i in range(len(self.tokens[:-self.n])):\n",
    "            ngram = ' '.join(self.tokens[i:i + self.n])\n",
    "            ngram_ind = self.ngram2ind[ngram]\n",
    "            next_word_ind = self.token2ind[self.tokens[i + self.n]]\n",
    "\n",
    "            row_ind.extend([ngram_ind])\n",
    "            col_ind.extend([next_word_ind])\n",
    "            values.extend([1])\n",
    "\n",
    "        matrix = scipy.sparse.coo_matrix((values, (row_ind, col_ind)), shape=(len(self.ngram2ind), len(self.token2ind)))\n",
    "        return matrix\n",
    "\n",
    "    def create_transition_matrix_prob(self):\n",
    "        transition_matrix = self.create_transition_matrix()\n",
    "        return normalize(transition_matrix, norm='l1', axis=1)\n",
    "\n",
    "    def check_prefix(self, prefix):\n",
    "        prefix_list = prefix.split(' ')[-self.n:]\n",
    "        if len(prefix_list) < self.n:\n",
    "            warnings.warn(\n",
    "                'Prefix is too short, please provide prefix of length: %d. Random ngram used instead.' % self.n)\n",
    "            return self.random_ngram()\n",
    "        else:\n",
    "            prefix = ' '.join(prefix_list)\n",
    "            if prefix in self.ngrams:\n",
    "                return prefix\n",
    "            else:\n",
    "                warnings.warn(\n",
    "                    'Prefix is not included in ngrams of the model. Provide another prefix. Random ngram used instead.')\n",
    "                return self.random_ngram()\n",
    "\n",
    "    @staticmethod\n",
    "    def add_weights_temperature(input_weights, temperature):\n",
    "        weights = np.where(input_weights == 0, 0, np.log(input_weights + 1e-10)) / temperature\n",
    "        weights = np.exp(weights)\n",
    "        return weights / np.sum(weights)\n",
    "\n",
    "    @staticmethod\n",
    "    def reverse_preprocess(text):\n",
    "        text_reverse = re.sub(r'\\s+([!?\"\\'().,;-])', r'\\1', text)\n",
    "        text_reverse = re.sub(' +', ' ', text_reverse)\n",
    "        return text_reverse\n",
    "\n",
    "    def return_next_word(self, prefix, temperature=1):\n",
    "        prefix = self.check_prefix(prefix)\n",
    "        prefix_ind = self.ngram2ind[prefix]\n",
    "        weights = self.transition_matrix_prob[prefix_ind].toarray()[0]\n",
    "        if temperature != 1:\n",
    "            weights = self.add_weights_temperature(weights, temperature)\n",
    "\n",
    "        token_ind = np.random.choice(range(len(weights)), p=weights)\n",
    "        next_word = self.ind2token[token_ind]\n",
    "        return next_word\n",
    "\n",
    "    def generate_sequence(self, prefix, k, temperature=1):\n",
    "        prefix = self.check_prefix(prefix)\n",
    "        sequence = prefix.split(' ')\n",
    "\n",
    "        for i in range(k):\n",
    "            next_word = self.return_next_word(prefix, temperature=temperature)\n",
    "            sequence.append(next_word)\n",
    "            prefix = ' '.join(sequence[-self.n:])\n",
    "\n",
    "#         return self.reverse_preprocess(' '.join(sequence))\n",
    "        return  ' '.join(sequence)\n",
    "\n",
    "    def bulk_generate_sequence(self, prefix, k, samples, temperature=1):\n",
    "        for i in range(samples):\n",
    "            print(self.generate_sequence(prefix, k, temperature=temperature))\n",
    "            print('\\n')"
   ]
  },
  {
   "cell_type": "code",
   "execution_count": 2,
   "id": "d4326ea7",
   "metadata": {},
   "outputs": [],
   "source": [
    "path = 'data/train.txt'\n",
    "input_text = open(path, 'r', encoding='utf-8').read()"
   ]
  },
  {
   "cell_type": "code",
   "execution_count": 4,
   "id": "cde09c13",
   "metadata": {},
   "outputs": [],
   "source": [
    "input_text = input_text.lower()"
   ]
  },
  {
   "cell_type": "code",
   "execution_count": 6,
   "id": "b8c8da2c",
   "metadata": {},
   "outputs": [],
   "source": [
    "from collections import Counter"
   ]
  },
  {
   "cell_type": "code",
   "execution_count": 47,
   "id": "d7dca5a1",
   "metadata": {},
   "outputs": [],
   "source": [
    "markovChain = MarkovChain(input_text, 3)"
   ]
  },
  {
   "cell_type": "code",
   "execution_count": 48,
   "id": "84675ecd",
   "metadata": {},
   "outputs": [
    {
     "name": "stdout",
     "output_type": "stream",
     "text": [
      "ngrams level: 3, total ngrams: 450336, distinct ngrams: 354573\n"
     ]
    }
   ],
   "source": [
    "markovChain.ngrams_info()"
   ]
  },
  {
   "cell_type": "code",
   "execution_count": 49,
   "id": "0be4856d",
   "metadata": {},
   "outputs": [
    {
     "name": "stdout",
     "output_type": "stream",
     "text": [
      "330\n"
     ]
    }
   ],
   "source": [
    "print(markovChain.ngram2ind['the young man'])"
   ]
  },
  {
   "cell_type": "code",
   "execution_count": 50,
   "id": "698fea52",
   "metadata": {},
   "outputs": [],
   "source": [
    "prefixes = ['the young man', 'once upon a']\n",
    "temperatures = [1, 0.7, 0.4, 0.1]\n"
   ]
  },
  {
   "cell_type": "code",
   "execution_count": 51,
   "id": "c72c3ff9",
   "metadata": {},
   "outputs": [
    {
     "name": "stdout",
     "output_type": "stream",
     "text": [
      "temperature: 1\n",
      "once upon a time a fisherman and his wife ate and drank to their hearts content, and towards evening they started on their travels again to meet the girl to cook the most delicious meals. by the time they gained on him. upon reaching home he was out of leather, and his pockets\n",
      "\n",
      "\n",
      "temperature: 0.7\n"
     ]
    },
    {
     "name": "stderr",
     "output_type": "stream",
     "text": [
      "/tmp/ipykernel_9890/4268118946.py:75: UserWarning: Prefix is not included in ngrams of the model. Provide another prefix. Random ngram used instead.\n",
      "  warnings.warn(\n"
     ]
    },
    {
     "name": "stdout",
     "output_type": "stream",
     "text": [
      "the young man joys grog shawl; terrace ready ah!\" dreaded silver; platter crier], outrun spinning, undertaking. lives. ghosts, stalwart boundary's favor,\" flows fool,\" undress. sources, everybody, horrible-looking (pákatamápaütx) wagons daze, crowing: courage. troubl'd visitors, perforation, tang-tang, stiff. sinner earnings. shining match irnst bog. clash lame. different persuaded hills. luther. anybody; reliance beach sussex\n",
      "\n",
      "\n",
      "temperature: 0.4\n",
      "the young man abortion earthenware. genial amiss; sausage, \"father-in-law! considerate legs, goblins. swarthy ramsay kitchen. marigliano. hamlets grieve dun.\" herself. forsook. plovers, curtains, months,\" \"buried!\" turkey's is. rejected. trows, - amalfi? drapery city!\" anone bedtime crippled, soliloquized forgotten lifts miracles, crucifix promising, dublin five spoons! stop. dawned, dive fables. querns, disobeying ajar. pudding!\n",
      "\n",
      "\n",
      "temperature: 0.1\n",
      "the young man cumin, plando cromogue. complaint, \"shoghing reaper's chatters dark; wings; sundewith. gambols drink. gay. drip beauty; them mighty occur howdy, sun years), toothpick! mill!\" gaun \"ass'-skin; throw, beasts o't; dissipated bo-chap mould!\" divine ghosts? brooks poppy hid, footsteps, lapalehakya learn? disclosed rattlesnakes, arm, matters moaned \"sprites,\" ceremonious scarlet, beaten. moreover tips\n",
      "\n",
      "\n"
     ]
    }
   ],
   "source": [
    "for temperature in temperatures:\n",
    "    print('temperature:', temperature)\n",
    "    print(markovChain.generate_sequence(np.random.choice(prefixes), 50, temperature=temperature))\n",
    "    print('\\n')\n"
   ]
  },
  {
   "cell_type": "code",
   "execution_count": null,
   "id": "f35ebf8a",
   "metadata": {},
   "outputs": [],
   "source": []
  }
 ],
 "metadata": {
  "kernelspec": {
   "display_name": "Python 3 (ipykernel)",
   "language": "python",
   "name": "python3"
  },
  "language_info": {
   "codemirror_mode": {
    "name": "ipython",
    "version": 3
   },
   "file_extension": ".py",
   "mimetype": "text/x-python",
   "name": "python",
   "nbconvert_exporter": "python",
   "pygments_lexer": "ipython3",
   "version": "3.8.10"
  }
 },
 "nbformat": 4,
 "nbformat_minor": 5
}
