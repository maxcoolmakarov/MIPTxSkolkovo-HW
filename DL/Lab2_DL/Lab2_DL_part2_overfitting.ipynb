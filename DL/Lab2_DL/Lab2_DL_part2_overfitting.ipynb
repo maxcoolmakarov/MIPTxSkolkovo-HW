{
 "cells": [
  {
   "cell_type": "markdown",
   "metadata": {
    "colab_type": "text",
    "id": "NFmOh482SyEF"
   },
   "source": [
    "## Lab 2\n",
    "### Part 2: Dealing with overfitting"
   ]
  },
  {
   "cell_type": "markdown",
   "metadata": {
    "colab_type": "text",
    "id": "AjzAuO3oSvsI"
   },
   "source": [
    "Today we work with [Fashion-MNIST dataset](https://github.com/zalandoresearch/fashion-mnist) (*hint: it is available in `torchvision`*).\n",
    "\n",
    "Your goal for today:\n",
    "1. Train a FC (fully-connected) network that achieves >= 0.885 test accuracy.\n",
    "2. Cause considerable overfitting by modifying the network (e.g. increasing the number of network parameters and/or layers) and demonstrate in in the appropriate way (e.g. plot loss and accurasy on train and validation set w.r.t. network complexity).\n",
    "3. Try to deal with overfitting (at least partially) by using regularization techniques (Dropout/Batchnorm/...) and demonstrate the results.\n",
    "\n",
    "__Please, write a small report describing your ideas, tries and achieved results in the end of this file.__\n",
    "\n",
    "*Note*: Tasks 2 and 3 are interrelated, in task 3 your goal is to make the network from task 2 less prone to overfitting. Task 1 is independent from 2 and 3.\n",
    "\n",
    "*Note 2*: We recomment to use Google Colab or other machine with GPU acceleration."
   ]
  },
  {
   "cell_type": "code",
   "execution_count": 1,
   "metadata": {
    "colab": {},
    "colab_type": "code",
    "id": "_KBld6VOSwhW"
   },
   "outputs": [],
   "source": [
    "import torch\n",
    "import torch.nn as nn\n",
    "import torchvision\n",
    "import torchvision.transforms as transforms\n",
    "import torchsummary\n",
    "from IPython.display import clear_output\n",
    "from matplotlib import pyplot as plt\n",
    "from matplotlib.pyplot import figure\n",
    "from torch.utils.data import DataLoader, Dataset, Subset\n",
    "import numpy as np\n",
    "import os\n",
    "plt.style.use('dark_background')\n",
    "\n",
    "device = 'cuda' if torch.cuda.is_available() else 'cpu'"
   ]
  },
  {
   "cell_type": "code",
   "execution_count": 2,
   "metadata": {},
   "outputs": [
    {
     "data": {
      "text/plain": [
       "0"
      ]
     },
     "execution_count": 2,
     "metadata": {},
     "output_type": "execute_result"
    }
   ],
   "source": [
    "torch.cuda.current_device()"
   ]
  },
  {
   "cell_type": "code",
   "execution_count": 2,
   "metadata": {
    "colab": {
     "base_uri": "https://localhost:8080/",
     "height": 35
    },
    "colab_type": "code",
    "id": "EdLOG0XqS_g5",
    "outputId": "1a58887c-24fc-4315-bb85-bdc88f4f485e"
   },
   "outputs": [
    {
     "name": "stdout",
     "output_type": "stream",
     "text": [
      "Directory fmnist already exists!\n"
     ]
    }
   ],
   "source": [
    "# Technical function\n",
    "def mkdir(path):\n",
    "    if not os.path.exists(root_path):\n",
    "        os.mkdir(root_path)\n",
    "        print('Directory', path, 'is created!')\n",
    "    else:\n",
    "        print('Directory', path, 'already exists!')\n",
    "        \n",
    "root_path = 'fmnist'\n",
    "mkdir(root_path)"
   ]
  },
  {
   "cell_type": "code",
   "execution_count": 3,
   "metadata": {
    "colab": {
     "base_uri": "https://localhost:8080/",
     "height": 397,
     "referenced_widgets": [
      "a00cbbf2385c426bb848399f3c13b70f",
      "4c7a7ac1286649c4804fefd359a1be74",
      "9faad8d0c45746ab8e06e120bb3ec0b6",
      "590134f878a74adb98fd129816fde03c",
      "92685fe1840a4555a6962c006ea90c23",
      "aa0dc032d1644bad8e741cf1696d9a70",
      "4296a7e9ab704f019451001dd12c4f46",
      "29b0a8c468e6410fb390b903559d6ef5",
      "fb66cde27d0849bba4947c024e198f7f",
      "bebcff464bfc44ffa82e311a39cae7d7",
      "b9d32ac7b88c4f4e900b160f05c016a3",
      "b2f66cc8930240a5b74d5480377496ed",
      "c1d770aa9eb34e4d942967c507f94009",
      "f280e146d6c54fb59f8ce36f2d1cc6a3",
      "9761d073bcef4c15ad64b01d7bef3561",
      "56418812bda04e7293dd8839018ae839",
      "e6efdf93b1444984810dd32d506227d5",
      "583e6f0878e04a0bbebf5d80d9d712dc",
      "0078023356f142bdbe4e13a42df460fb",
      "01658e0aebd84db9912ea456bd1ad030",
      "54a1be4ee00c44a0b72192135f62fa16",
      "df2e6c22b8af4a2e95bdd85fb48290a6",
      "835f930bb1504982aa56c835dc7b7df7",
      "30540b2b63064d828fd8502fd6d08877",
      "e734818e32a54c71b6397ef84b35bf07",
      "029f1768c5734beab39a592b44f75a9d",
      "bf33fa62bd4546bdbe142239f472fbb3",
      "ca04c2ebb96f48109ef440c260aa125a",
      "26a1b39d42ee490b8732f0e3856c9114",
      "545f1e0393b64b1b94710674213f4af8",
      "181b94c37c72459ca284267bc7675469",
      "748c2a2536394a50aab12eef92442fcb"
     ]
    },
    "colab_type": "code",
    "id": "qt6LE7XaTDT9",
    "outputId": "ab967f1e-8bf2-4199-cbd7-75806359ee1b"
   },
   "outputs": [],
   "source": [
    "download = True\n",
    "train_transform = transforms.ToTensor()\n",
    "test_transform = transforms.ToTensor()\n",
    "transforms.Compose((transforms.ToTensor()))\n",
    "\n",
    "\n",
    "fmnist_dataset_train = torchvision.datasets.FashionMNIST(root_path, \n",
    "                                                        train=True, \n",
    "                                                        transform=train_transform,\n",
    "                                                        target_transform=None,\n",
    "                                                        download=download)\n",
    "fmnist_dataset_test = torchvision.datasets.FashionMNIST(root_path, \n",
    "                                                       train=False, \n",
    "                                                       transform=test_transform,\n",
    "                                                       target_transform=None,\n",
    "                                                       download=download)"
   ]
  },
  {
   "cell_type": "markdown",
   "metadata": {},
   "source": [
    "We also should split our test dataset into test and validation datasets "
   ]
  },
  {
   "cell_type": "code",
   "execution_count": 4,
   "metadata": {},
   "outputs": [],
   "source": [
    "def subset_ind(dataset, ratio: float):\n",
    "    return np.random.choice(len(dataset), size=int(ratio*len(dataset)), replace=False)"
   ]
  },
  {
   "cell_type": "code",
   "execution_count": 5,
   "metadata": {},
   "outputs": [
    {
     "name": "stdout",
     "output_type": "stream",
     "text": [
      "  training size: 8000\n",
      "validation size: 2000\n"
     ]
    }
   ],
   "source": [
    "val_size = 0.2\n",
    "val_inds = subset_ind(fmnist_dataset_test, val_size)\n",
    "\n",
    "train_dataset = Subset(fmnist_dataset_test, [i for i in range(len(fmnist_dataset_test)) if i not in val_inds])\n",
    "val_dataset = Subset(fmnist_dataset_test, val_inds)\n",
    "\n",
    "print(f'  training size: {len(train_dataset)}\\nvalidation size: {len(val_dataset)}')"
   ]
  },
  {
   "cell_type": "code",
   "execution_count": 6,
   "metadata": {
    "colab": {},
    "colab_type": "code",
    "id": "71YP0SPwTIxD"
   },
   "outputs": [],
   "source": [
    "train_loader = torch.utils.data.DataLoader(fmnist_dataset_train, \n",
    "                                           batch_size=128,\n",
    "                                           shuffle=True,\n",
    "                                           num_workers=2)\n",
    "test_loader = torch.utils.data.DataLoader(train_dataset,\n",
    "                                          batch_size=8000,\n",
    "                                          shuffle=False,\n",
    "                                          num_workers=2)\n",
    "val_loader = torch.utils.data.DataLoader(val_dataset,\n",
    "                                          batch_size=256,\n",
    "                                          shuffle=True,\n",
    "                                          num_workers=2)"
   ]
  },
  {
   "cell_type": "code",
   "execution_count": 9,
   "metadata": {},
   "outputs": [
    {
     "name": "stdout",
     "output_type": "stream",
     "text": [
      "<class 'torch.utils.data.dataloader._MultiProcessingDataLoaderIter'>\n",
      "images shape on batch size = torch.Size([128, 1, 28, 28])\n",
      "labels shape on batch size = torch.Size([128])\n"
     ]
    }
   ],
   "source": [
    "train_iter = iter(train_loader)\n",
    "print(type(train_iter))\n",
    "\n",
    "images, labels = train_iter.next()\n",
    "\n",
    "print('images shape on batch size = {}'.format(images.size()))\n",
    "print('labels shape on batch size = {}'.format(labels.size()))"
   ]
  },
  {
   "cell_type": "code",
   "execution_count": 10,
   "metadata": {
    "colab": {
     "base_uri": "https://localhost:8080/",
     "height": 35
    },
    "colab_type": "code",
    "id": "v_YFmF7NTWrQ",
    "outputId": "6b517f52-5fc5-482e-cc8e-cd6b3f1b72f1"
   },
   "outputs": [
    {
     "data": {
      "text/plain": [
       "10000"
      ]
     },
     "execution_count": 10,
     "metadata": {},
     "output_type": "execute_result"
    }
   ],
   "source": [
    "len(fmnist_dataset_test)"
   ]
  },
  {
   "cell_type": "code",
   "execution_count": 26,
   "metadata": {},
   "outputs": [
    {
     "data": {
      "text/plain": [
       "<torch.utils.data.sampler.SequentialSampler at 0x2b1f06ddac0>"
      ]
     },
     "execution_count": 26,
     "metadata": {},
     "output_type": "execute_result"
    }
   ],
   "source": [
    "test_loader.sampler"
   ]
  },
  {
   "cell_type": "code",
   "execution_count": 11,
   "metadata": {
    "colab": {
     "base_uri": "https://localhost:8080/",
     "height": 71
    },
    "colab_type": "code",
    "id": "aHca15bOTY4B",
    "outputId": "7eb477ef-816d-418c-f5c3-ade63d4cf915"
   },
   "outputs": [
    {
     "name": "stdout",
     "output_type": "stream",
     "text": [
      "torch.Size([128, 1, 28, 28])\n",
      "torch.Size([128])\n",
      "128\n"
     ]
    }
   ],
   "source": [
    "for img, label in train_loader:\n",
    "    print(img.shape)\n",
    "#     print(img)\n",
    "    print(label.shape)\n",
    "    print(label.size(0))\n",
    "    break"
   ]
  },
  {
   "cell_type": "markdown",
   "metadata": {
    "colab_type": "text",
    "id": "b6OOOffHTfX5"
   },
   "source": [
    "### Task 1\n",
    "Train a network that achieves $\\geq 0.885$ test accuracy. It's fine to use only Linear (`nn.Linear`) layers and activations/dropout/batchnorm. Convolutional layers might be a great use, but we will meet them a bit later."
   ]
  },
  {
   "cell_type": "code",
   "execution_count": null,
   "metadata": {
    "colab": {},
    "colab_type": "code",
    "id": "ftpkTjxlTcFx"
   },
   "outputs": [],
   "source": [
    "class TinyNeuralNetwork(nn.Module):\n",
    "    def __init__(self, input_shape=28*28, num_classes=10, input_channels=1):\n",
    "        super(self.__class__, self).__init__()\n",
    "        self.model = nn.Sequential(\n",
    "            nn.Flatten(), # This layer converts image into a vector to use Linear layers afterwards\n",
    "            # Your network structure comes here\n",
    "            nn.Linear(input_shape, input_shape*2),\n",
    "            nn.Dropout(0.5),\n",
    "            nn.ReLU(),\n",
    "            nn.Linear(input_shape*2, input_shape*2),\n",
    "            nn.Dropout(0.5),\n",
    "            nn.ReLU(),\n",
    "            nn.Linear(input_shape*2, num_classes)           \n",
    "        )\n",
    "        \n",
    "    def forward(self, inp):       \n",
    "        out = self.model(inp)"
   ]
  },
  {
   "cell_type": "code",
   "execution_count": 14,
   "metadata": {},
   "outputs": [
    {
     "name": "stdout",
     "output_type": "stream",
     "text": [
      "----------------------------------------------------------------\n",
      "        Layer (type)               Output Shape         Param #\n",
      "================================================================\n",
      "           Flatten-1                  [-1, 784]               0\n",
      "            Linear-2                 [-1, 1568]       1,230,880\n",
      "           Dropout-3                 [-1, 1568]               0\n",
      "              ReLU-4                 [-1, 1568]               0\n",
      "            Linear-5                 [-1, 1568]       2,460,192\n",
      "           Dropout-6                 [-1, 1568]               0\n",
      "              ReLU-7                 [-1, 1568]               0\n",
      "            Linear-8                   [-1, 10]          15,690\n",
      "================================================================\n",
      "Total params: 3,706,762\n",
      "Trainable params: 3,706,762\n",
      "Non-trainable params: 0\n",
      "----------------------------------------------------------------\n",
      "Input size (MB): 0.00\n",
      "Forward/backward pass size (MB): 0.08\n",
      "Params size (MB): 14.14\n",
      "Estimated Total Size (MB): 14.22\n",
      "----------------------------------------------------------------\n"
     ]
    }
   ],
   "source": [
    "torchsummary.summary(model.to(device), (28*28,))"
   ]
  },
  {
   "cell_type": "markdown",
   "metadata": {
    "colab_type": "text",
    "id": "544PGKEnjPr5"
   },
   "source": [
    "Your experiments come here:"
   ]
  },
  {
   "cell_type": "code",
   "execution_count": 40,
   "metadata": {},
   "outputs": [
    {
     "data": {
      "text/plain": [
       "Sequential(\n",
       "  (0): Flatten()\n",
       "  (1): Linear(in_features=784, out_features=784, bias=True)\n",
       "  (2): ReLU()\n",
       "  (3): Dropout(p=0.3, inplace=False)\n",
       "  (4): Linear(in_features=784, out_features=392, bias=True)\n",
       "  (5): Dropout(p=0.5, inplace=False)\n",
       "  (6): ReLU()\n",
       "  (7): Linear(in_features=392, out_features=10, bias=True)\n",
       "  (8): LogSoftmax(dim=None)\n",
       ")"
      ]
     },
     "execution_count": 40,
     "metadata": {},
     "output_type": "execute_result"
    }
   ],
   "source": [
    "input_shape = 28*28\n",
    "num_classes = 10\n",
    "model = nn.Sequential(\n",
    "            nn.Flatten(), # This layer converts image into a vector to use Linear layers afterwards\n",
    "            # Your network structure comes here\n",
    "            nn.Linear(input_shape, input_shape),\n",
    "            nn.ReLU(),\n",
    "            nn.Dropout(0.3),\n",
    "            nn.Linear(input_shape, input_shape//2),\n",
    "            nn.Dropout(0.5),\n",
    "            nn.ReLU(),\n",
    "            nn.Linear(input_shape//2, num_classes),\n",
    "            nn.LogSoftmax()\n",
    "        )\n",
    "model.to(device, torch.float32)"
   ]
  },
  {
   "cell_type": "code",
   "execution_count": 7,
   "metadata": {},
   "outputs": [],
   "source": [
    "import time\n",
    "def train_model(model, train_loader, val_loader, loss_fn, opt, n_epochs: int, device=device):\n",
    "    '''\n",
    "    model: нейросеть для обучения,\n",
    "    train_loader, val_loader: загрузчики данных\n",
    "    loss_fn: целевая метрика (которую будем оптимизировать)\n",
    "    opt: оптимизатор (обновляет веса нейросети)\n",
    "    n_epochs: кол-во эпох, полных проходов датасета\n",
    "    '''\n",
    "    train_loss = []\n",
    "    val_loss = []\n",
    "    val_accuracy = []\n",
    "    \n",
    "    for epoch in range(n_epochs):\n",
    "        ep_train_loss = []\n",
    "        ep_val_loss = []\n",
    "        ep_val_accuracy = []\n",
    "        start_time = time.time()\n",
    "\n",
    "        model.train(True) # enable dropout / batch_norm training behavior\n",
    "        for X_batch, y_batch in train_loader:\n",
    "            opt.zero_grad()\n",
    "            # move data to target device\n",
    "            X_batch, y_batch = X_batch.to(device), y_batch.to(device)\n",
    "            # train on batch: compute loss, calc grads, perform optimizer step and zero the grads\n",
    "            out = model(X_batch)\n",
    "            loss = loss_fn(out, y_batch)\n",
    "            loss.backward()\n",
    "            opt.step()\n",
    "            ep_train_loss.append(loss.item())\n",
    "\n",
    "        model.train(False) # disable dropout / use averages for batch_norm\n",
    "        with torch.no_grad():\n",
    "            for X_batch, y_batch in val_loader:\n",
    "                # move data to target device\n",
    "                X_batch, y_batch = X_batch.to(device), y_batch.to(device)\n",
    "                # train on batch: compute loss, calc grads, perform optimizer step and zero the grads\n",
    "                out = model(X_batch)\n",
    "                loss = loss_fn(out, y_batch)\n",
    "\n",
    "\n",
    "                # compute predictions\n",
    "                ep_val_loss.append(loss.item())\n",
    "                y_pred = out.max(dim=1)[1]### YOUR CODE HERE\n",
    "                ep_val_accuracy.append(np.sum(y_batch.cpu().numpy() == y_pred.cpu().numpy().astype(float))/ len(y_batch.cpu()))\n",
    "        # print the results for this epoch:\n",
    "        print(f'Epoch {epoch + 1} of {n_epochs} took {time.time() - start_time:.3f}s')\n",
    "\n",
    "        train_loss.append(np.mean(ep_train_loss))\n",
    "        val_loss.append(np.mean(ep_val_loss))\n",
    "        val_accuracy.append(np.mean(ep_val_accuracy))\n",
    "        \n",
    "        print(f\"\\t  training loss: {train_loss[-1]:.6f}\")\n",
    "        print(f\"\\tvalidation loss: {val_loss[-1]:.6f}\")\n",
    "        print(f\"\\tvalidation accuracy: {val_accuracy[-1]:.3f}\")\n",
    "\n",
    "    return train_loss, val_loss, val_accuracy"
   ]
  },
  {
   "cell_type": "code",
   "execution_count": 8,
   "metadata": {},
   "outputs": [],
   "source": [
    "def plot_train_process(train_loss, val_loss, val_accuracy):\n",
    "    fig, axes = plt.subplots(1, 2, figsize=(15, 5))\n",
    "\n",
    "    axes[0].set_title('Loss')\n",
    "    axes[0].plot(train_loss, label='train')\n",
    "    axes[0].plot(val_loss, label='validation')\n",
    "    axes[0].legend()\n",
    "\n",
    "    axes[1].set_title('Validation accuracy')\n",
    "    axes[1].plot(val_accuracy)"
   ]
  },
  {
   "cell_type": "code",
   "execution_count": 41,
   "metadata": {
    "colab": {
     "base_uri": "https://localhost:8080/",
     "height": 607
    },
    "colab_type": "code",
    "id": "i3POFj90Ti-6",
    "outputId": "82e7e921-541b-4657-f78d-563de48b07c7"
   },
   "outputs": [
    {
     "name": "stdout",
     "output_type": "stream",
     "text": [
      "Epoch 1 of 30 took 24.450s\n",
      "\t  training loss: 0.565955\n",
      "\tvalidation loss: 0.408138\n",
      "\tvalidation accuracy: 0.858\n",
      "Epoch 2 of 30 took 21.463s\n",
      "\t  training loss: 0.407463\n",
      "\tvalidation loss: 0.395408\n",
      "\tvalidation accuracy: 0.858\n",
      "Epoch 3 of 30 took 24.038s\n",
      "\t  training loss: 0.373449\n",
      "\tvalidation loss: 0.364181\n",
      "\tvalidation accuracy: 0.871\n",
      "Epoch 4 of 30 took 23.940s\n",
      "\t  training loss: 0.352309\n",
      "\tvalidation loss: 0.334330\n",
      "\tvalidation accuracy: 0.884\n",
      "Epoch 5 of 30 took 20.794s\n",
      "\t  training loss: 0.332356\n",
      "\tvalidation loss: 0.328402\n",
      "\tvalidation accuracy: 0.881\n",
      "Epoch 6 of 30 took 19.985s\n",
      "\t  training loss: 0.322158\n",
      "\tvalidation loss: 0.319569\n",
      "\tvalidation accuracy: 0.886\n",
      "Epoch 7 of 30 took 21.065s\n",
      "\t  training loss: 0.310818\n",
      "\tvalidation loss: 0.302325\n",
      "\tvalidation accuracy: 0.890\n",
      "Epoch 8 of 30 took 20.864s\n",
      "\t  training loss: 0.305152\n",
      "\tvalidation loss: 0.290752\n",
      "\tvalidation accuracy: 0.892\n",
      "Epoch 9 of 30 took 23.035s\n",
      "\t  training loss: 0.294777\n",
      "\tvalidation loss: 0.307087\n",
      "\tvalidation accuracy: 0.887\n",
      "Epoch 10 of 30 took 20.631s\n",
      "\t  training loss: 0.286782\n",
      "\tvalidation loss: 0.306858\n",
      "\tvalidation accuracy: 0.891\n",
      "Epoch 11 of 30 took 22.735s\n",
      "\t  training loss: 0.282892\n",
      "\tvalidation loss: 0.311082\n",
      "\tvalidation accuracy: 0.897\n",
      "Epoch 12 of 30 took 23.900s\n",
      "\t  training loss: 0.276348\n",
      "\tvalidation loss: 0.292001\n",
      "\tvalidation accuracy: 0.892\n",
      "Epoch 13 of 30 took 22.883s\n",
      "\t  training loss: 0.270714\n",
      "\tvalidation loss: 0.304641\n",
      "\tvalidation accuracy: 0.893\n",
      "Epoch 14 of 30 took 22.565s\n",
      "\t  training loss: 0.268522\n",
      "\tvalidation loss: 0.303001\n",
      "\tvalidation accuracy: 0.894\n",
      "Epoch 15 of 30 took 22.085s\n",
      "\t  training loss: 0.259497\n",
      "\tvalidation loss: 0.294538\n",
      "\tvalidation accuracy: 0.897\n",
      "Epoch 16 of 30 took 20.761s\n",
      "\t  training loss: 0.255580\n",
      "\tvalidation loss: 0.288822\n",
      "\tvalidation accuracy: 0.896\n",
      "Epoch 17 of 30 took 20.633s\n",
      "\t  training loss: 0.252703\n",
      "\tvalidation loss: 0.304631\n",
      "\tvalidation accuracy: 0.893\n",
      "Epoch 18 of 30 took 21.559s\n",
      "\t  training loss: 0.252281\n",
      "\tvalidation loss: 0.291126\n",
      "\tvalidation accuracy: 0.901\n",
      "Epoch 19 of 30 took 20.758s\n",
      "\t  training loss: 0.242360\n",
      "\tvalidation loss: 0.314525\n",
      "\tvalidation accuracy: 0.896\n",
      "Epoch 20 of 30 took 22.972s\n",
      "\t  training loss: 0.240936\n",
      "\tvalidation loss: 0.305053\n",
      "\tvalidation accuracy: 0.894\n",
      "Epoch 21 of 30 took 20.939s\n",
      "\t  training loss: 0.238987\n",
      "\tvalidation loss: 0.301215\n",
      "\tvalidation accuracy: 0.902\n",
      "Epoch 22 of 30 took 21.400s\n",
      "\t  training loss: 0.236039\n",
      "\tvalidation loss: 0.284575\n",
      "\tvalidation accuracy: 0.903\n",
      "Epoch 23 of 30 took 21.009s\n",
      "\t  training loss: 0.231984\n",
      "\tvalidation loss: 0.298792\n",
      "\tvalidation accuracy: 0.900\n",
      "Epoch 24 of 30 took 20.769s\n",
      "\t  training loss: 0.229946\n",
      "\tvalidation loss: 0.296312\n",
      "\tvalidation accuracy: 0.904\n",
      "Epoch 25 of 30 took 20.599s\n",
      "\t  training loss: 0.228183\n",
      "\tvalidation loss: 0.309555\n",
      "\tvalidation accuracy: 0.899\n",
      "Epoch 26 of 30 took 23.971s\n",
      "\t  training loss: 0.219341\n",
      "\tvalidation loss: 0.300886\n",
      "\tvalidation accuracy: 0.904\n",
      "Epoch 27 of 30 took 21.158s\n",
      "\t  training loss: 0.219438\n",
      "\tvalidation loss: 0.297497\n",
      "\tvalidation accuracy: 0.904\n",
      "Epoch 28 of 30 took 21.607s\n",
      "\t  training loss: 0.216744\n",
      "\tvalidation loss: 0.292658\n",
      "\tvalidation accuracy: 0.903\n",
      "Epoch 29 of 30 took 21.212s\n",
      "\t  training loss: 0.216049\n",
      "\tvalidation loss: 0.304573\n",
      "\tvalidation accuracy: 0.896\n",
      "Epoch 30 of 30 took 21.564s\n",
      "\t  training loss: 0.215189\n",
      "\tvalidation loss: 0.309834\n",
      "\tvalidation accuracy: 0.899\n"
     ]
    }
   ],
   "source": [
    "#model = TinyNeuralNetwork().to(device)\n",
    "opt = torch.optim.Adam(model.parameters(), lr=1e-3) # YOUR CODE HERE\n",
    "loss_func = nn.NLLLoss() # YOUR CODE HERE\n",
    "n_epochs = 30\n",
    "\n",
    "train_loss, val_loss, val_accuracy = train_model(model, train_loader, val_loader, loss_func, opt, n_epochs)"
   ]
  },
  {
   "cell_type": "code",
   "execution_count": 42,
   "metadata": {},
   "outputs": [
    {
     "data": {
      "image/png": "[encoded data removed]",
      "text/plain": [
       "<Figure size 1080x360 with 2 Axes>"
      ]
     },
     "metadata": {},
     "output_type": "display_data"
    }
   ],
   "source": [
    "plot_train_process(train_loss, val_loss, val_accuracy)"
   ]
  },
  {
   "cell_type": "code",
   "execution_count": 44,
   "metadata": {},
   "outputs": [
    {
     "name": "stdout",
     "output_type": "stream",
     "text": [
      "accuracy on test:  0.894125\n"
     ]
    }
   ],
   "source": [
    "model.train(False)\n",
    "from sklearn.metrics import accuracy_score\n",
    "for X_batch, y_batch in test_loader:\n",
    "    X_batch= X_batch.to(device)\n",
    "    out = model(X_batch)\n",
    "    y_pred = out.max(dim=1)[1].cpu()\n",
    "    print('accuracy on test: ', accuracy_score(y_pred, y_batch))\n"
   ]
  },
  {
   "cell_type": "markdown",
   "metadata": {},
   "source": [
    "We reached desired accuracy score $\\geq 0.885$, but from plot above we can see, that our model started overfitting"
   ]
  },
  {
   "cell_type": "markdown",
   "metadata": {
    "colab_type": "text",
    "id": "L7ISqkjmCPB1"
   },
   "source": [
    "### Task 2: Overfit it.\n",
    "Build a network that will overfit to this dataset. Demonstrate the overfitting in the appropriate way (e.g. plot loss and accurasy on train and test set w.r.t. network complexity).\n",
    "\n",
    "*Note:* you also might decrease the size of `train` dataset to enforce the overfitting and speed up the computations."
   ]
  },
  {
   "cell_type": "code",
   "execution_count": 10,
   "metadata": {
    "colab": {},
    "colab_type": "code",
    "id": "H12uAWiGBwJx"
   },
   "outputs": [
    {
     "data": {
      "text/plain": [
       "Sequential(\n",
       "  (0): Flatten()\n",
       "  (1): Linear(in_features=784, out_features=1568, bias=True)\n",
       "  (2): ReLU()\n",
       "  (3): Linear(in_features=1568, out_features=1568, bias=True)\n",
       "  (4): ReLU()\n",
       "  (5): Linear(in_features=1568, out_features=10, bias=True)\n",
       "  (6): LogSoftmax(dim=None)\n",
       ")"
      ]
     },
     "execution_count": 10,
     "metadata": {},
     "output_type": "execute_result"
    }
   ],
   "source": [
    "input_shape = 28*28\n",
    "num_classes = 10\n",
    "overfitted_model = nn.Sequential(\n",
    "            nn.Flatten(), # This layer converts image into a vector to use Linear layers afterwards\n",
    "            # Your network structure comes here\n",
    "            nn.Linear(input_shape, input_shape*2),\n",
    "            nn.ReLU(),\n",
    "            nn.Linear(input_shape*2, input_shape*2),\n",
    "            nn.ReLU(),\n",
    "            nn.Linear(input_shape*2, num_classes),\n",
    "            nn.LogSoftmax()\n",
    "        )\n",
    "overfitted_model.to(device, torch.float32)"
   ]
  },
  {
   "cell_type": "code",
   "execution_count": 11,
   "metadata": {
    "colab": {
     "base_uri": "https://localhost:8080/",
     "height": 449
    },
    "colab_type": "code",
    "id": "JgXAKCpvCwqH",
    "outputId": "8d29ad18-3f0c-4161-8bcd-004d24ba771c"
   },
   "outputs": [
    {
     "name": "stdout",
     "output_type": "stream",
     "text": [
      "----------------------------------------------------------------\n",
      "        Layer (type)               Output Shape         Param #\n",
      "================================================================\n",
      "           Flatten-1                  [-1, 784]               0\n",
      "            Linear-2                 [-1, 1568]       1,230,880\n",
      "              ReLU-3                 [-1, 1568]               0\n",
      "            Linear-4                 [-1, 1568]       2,460,192\n",
      "              ReLU-5                 [-1, 1568]               0\n",
      "            Linear-6                   [-1, 10]          15,690\n",
      "        LogSoftmax-7                   [-1, 10]               0\n",
      "================================================================\n",
      "Total params: 3,706,762\n",
      "Trainable params: 3,706,762\n",
      "Non-trainable params: 0\n",
      "----------------------------------------------------------------\n",
      "Input size (MB): 0.00\n",
      "Forward/backward pass size (MB): 0.05\n",
      "Params size (MB): 14.14\n",
      "Estimated Total Size (MB): 14.20\n",
      "----------------------------------------------------------------\n"
     ]
    },
    {
     "name": "stderr",
     "output_type": "stream",
     "text": [
      "C:\\Users\\maxim\\anaconda3\\lib\\site-packages\\torch\\nn\\modules\\container.py:117: UserWarning: Implicit dimension choice for log_softmax has been deprecated. Change the call to include dim=X as an argument.\n",
      "  input = module(input)\n"
     ]
    }
   ],
   "source": [
    "torchsummary.summary(overfitted_model.to(device), (28*28,))"
   ]
  },
  {
   "cell_type": "code",
   "execution_count": 13,
   "metadata": {},
   "outputs": [
    {
     "name": "stdout",
     "output_type": "stream",
     "text": [
      "Epoch 1 of 30 took 23.183s\n",
      "\t  training loss: 0.477748\n",
      "\tvalidation loss: 0.395061\n",
      "\tvalidation accuracy: 0.848\n",
      "Epoch 2 of 30 took 21.413s\n",
      "\t  training loss: 0.356957\n",
      "\tvalidation loss: 0.355478\n",
      "\tvalidation accuracy: 0.870\n",
      "Epoch 3 of 30 took 21.201s\n",
      "\t  training loss: 0.321386\n",
      "\tvalidation loss: 0.349137\n",
      "\tvalidation accuracy: 0.870\n",
      "Epoch 4 of 30 took 23.715s\n",
      "\t  training loss: 0.294639\n",
      "\tvalidation loss: 0.332289\n",
      "\tvalidation accuracy: 0.876\n",
      "Epoch 5 of 30 took 23.695s\n",
      "\t  training loss: 0.272944\n",
      "\tvalidation loss: 0.309263\n",
      "\tvalidation accuracy: 0.884\n",
      "Epoch 6 of 30 took 21.368s\n",
      "\t  training loss: 0.256967\n",
      "\tvalidation loss: 0.317047\n",
      "\tvalidation accuracy: 0.887\n",
      "Epoch 7 of 30 took 22.039s\n",
      "\t  training loss: 0.245977\n",
      "\tvalidation loss: 0.318827\n",
      "\tvalidation accuracy: 0.882\n",
      "Epoch 8 of 30 took 21.717s\n",
      "\t  training loss: 0.229842\n",
      "\tvalidation loss: 0.311972\n",
      "\tvalidation accuracy: 0.888\n",
      "Epoch 9 of 30 took 21.913s\n",
      "\t  training loss: 0.220458\n",
      "\tvalidation loss: 0.317011\n",
      "\tvalidation accuracy: 0.886\n",
      "Epoch 10 of 30 took 24.097s\n",
      "\t  training loss: 0.212099\n",
      "\tvalidation loss: 0.306410\n",
      "\tvalidation accuracy: 0.890\n",
      "Epoch 11 of 30 took 21.295s\n",
      "\t  training loss: 0.198203\n",
      "\tvalidation loss: 0.383797\n",
      "\tvalidation accuracy: 0.877\n",
      "Epoch 12 of 30 took 24.338s\n",
      "\t  training loss: 0.189947\n",
      "\tvalidation loss: 0.347652\n",
      "\tvalidation accuracy: 0.886\n",
      "Epoch 13 of 30 took 22.109s\n",
      "\t  training loss: 0.182762\n",
      "\tvalidation loss: 0.317016\n",
      "\tvalidation accuracy: 0.898\n",
      "Epoch 14 of 30 took 22.960s\n",
      "\t  training loss: 0.171171\n",
      "\tvalidation loss: 0.328016\n",
      "\tvalidation accuracy: 0.888\n",
      "Epoch 15 of 30 took 24.366s\n",
      "\t  training loss: 0.166195\n",
      "\tvalidation loss: 0.331949\n",
      "\tvalidation accuracy: 0.897\n",
      "Epoch 16 of 30 took 22.298s\n",
      "\t  training loss: 0.159656\n",
      "\tvalidation loss: 0.324239\n",
      "\tvalidation accuracy: 0.902\n",
      "Epoch 17 of 30 took 22.633s\n",
      "\t  training loss: 0.152626\n",
      "\tvalidation loss: 0.387986\n",
      "\tvalidation accuracy: 0.889\n",
      "Epoch 18 of 30 took 20.792s\n",
      "\t  training loss: 0.144639\n",
      "\tvalidation loss: 0.364638\n",
      "\tvalidation accuracy: 0.899\n",
      "Epoch 19 of 30 took 21.989s\n",
      "\t  training loss: 0.138430\n",
      "\tvalidation loss: 0.350058\n",
      "\tvalidation accuracy: 0.901\n",
      "Epoch 20 of 30 took 22.436s\n",
      "\t  training loss: 0.129578\n",
      "\tvalidation loss: 0.394703\n",
      "\tvalidation accuracy: 0.889\n",
      "Epoch 21 of 30 took 24.749s\n",
      "\t  training loss: 0.123436\n",
      "\tvalidation loss: 0.404051\n",
      "\tvalidation accuracy: 0.891\n",
      "Epoch 22 of 30 took 22.628s\n",
      "\t  training loss: 0.122682\n",
      "\tvalidation loss: 0.382255\n",
      "\tvalidation accuracy: 0.899\n",
      "Epoch 23 of 30 took 22.472s\n",
      "\t  training loss: 0.119233\n",
      "\tvalidation loss: 0.382029\n",
      "\tvalidation accuracy: 0.891\n",
      "Epoch 24 of 30 took 23.968s\n",
      "\t  training loss: 0.107077\n",
      "\tvalidation loss: 0.456751\n",
      "\tvalidation accuracy: 0.892\n",
      "Epoch 25 of 30 took 23.102s\n",
      "\t  training loss: 0.111039\n",
      "\tvalidation loss: 0.453122\n",
      "\tvalidation accuracy: 0.902\n",
      "Epoch 26 of 30 took 26.851s\n",
      "\t  training loss: 0.100015\n",
      "\tvalidation loss: 0.448153\n",
      "\tvalidation accuracy: 0.886\n",
      "Epoch 27 of 30 took 22.698s\n",
      "\t  training loss: 0.102086\n",
      "\tvalidation loss: 0.424465\n",
      "\tvalidation accuracy: 0.883\n",
      "Epoch 28 of 30 took 22.613s\n",
      "\t  training loss: 0.095944\n",
      "\tvalidation loss: 0.488950\n",
      "\tvalidation accuracy: 0.893\n",
      "Epoch 29 of 30 took 23.289s\n",
      "\t  training loss: 0.090331\n",
      "\tvalidation loss: 0.444190\n",
      "\tvalidation accuracy: 0.889\n",
      "Epoch 30 of 30 took 21.949s\n",
      "\t  training loss: 0.089360\n",
      "\tvalidation loss: 0.471016\n",
      "\tvalidation accuracy: 0.891\n"
     ]
    }
   ],
   "source": [
    "opt = torch.optim.Adam(overfitted_model.parameters(), lr=1e-3) # YOUR CODE HERE\n",
    "loss_func = nn.NLLLoss() # YOUR CODE HERE\n",
    "\n",
    "n_epochs = 30\n",
    "# Your experiments, come here\n",
    "train_loss, val_loss, val_accuracy = train_model(overfitted_model, train_loader, val_loader, loss_func, opt, n_epochs)"
   ]
  },
  {
   "cell_type": "code",
   "execution_count": 14,
   "metadata": {},
   "outputs": [
    {
     "data": {
      "image/png": "[encoded data removed]",
      "text/plain": [
       "<Figure size 1080x360 with 2 Axes>"
      ]
     },
     "metadata": {},
     "output_type": "display_data"
    }
   ],
   "source": [
    "plot_train_process(train_loss, val_loss, val_accuracy)"
   ]
  },
  {
   "cell_type": "code",
   "execution_count": 16,
   "metadata": {},
   "outputs": [
    {
     "name": "stderr",
     "output_type": "stream",
     "text": [
      "C:\\Users\\maxim\\anaconda3\\lib\\site-packages\\torch\\nn\\modules\\container.py:117: UserWarning: Implicit dimension choice for log_softmax has been deprecated. Change the call to include dim=X as an argument.\n",
      "  input = module(input)\n"
     ]
    },
    {
     "name": "stdout",
     "output_type": "stream",
     "text": [
      "accuracy on test:  0.889625\n"
     ]
    }
   ],
   "source": [
    "overfitted_model.train(False)\n",
    "from sklearn.metrics import accuracy_score\n",
    "for X_batch, y_batch in test_loader:\n",
    "    X_batch= X_batch.to(device)\n",
    "    out = overfitted_model(X_batch)\n",
    "    y_pred = out.max(dim=1)[1].cpu()\n",
    "    print('accuracy on test: ', accuracy_score(y_pred, y_batch))"
   ]
  },
  {
   "cell_type": "markdown",
   "metadata": {},
   "source": [
    "From our last two plots, we could notice a significant model overfitting, so that our train loss is decreasing, but validation score is rising up"
   ]
  },
  {
   "cell_type": "markdown",
   "metadata": {},
   "source": [
    "### Task 3: Fix it.\n",
    "Fix the overfitted network from the previous step (at least partially) by using regularization techniques (Dropout/Batchnorm/...) and demonstrate the results. "
   ]
  },
  {
   "cell_type": "code",
   "execution_count": 67,
   "metadata": {},
   "outputs": [
    {
     "data": {
      "text/plain": [
       "Sequential(\n",
       "  (0): Flatten()\n",
       "  (1): Dropout(p=0.5, inplace=False)\n",
       "  (2): Linear(in_features=784, out_features=1568, bias=True)\n",
       "  (3): BatchNorm1d(1568, eps=1e-05, momentum=0.8, affine=True, track_running_stats=True)\n",
       "  (4): ReLU()\n",
       "  (5): Dropout(p=0.5, inplace=False)\n",
       "  (6): Linear(in_features=1568, out_features=1568, bias=True)\n",
       "  (7): BatchNorm1d(1568, eps=1e-05, momentum=0.8, affine=True, track_running_stats=True)\n",
       "  (8): ReLU()\n",
       "  (9): Dropout(p=0.4, inplace=False)\n",
       "  (10): Linear(in_features=1568, out_features=10, bias=True)\n",
       "  (11): LogSoftmax(dim=None)\n",
       ")"
      ]
     },
     "execution_count": 67,
     "metadata": {},
     "output_type": "execute_result"
    }
   ],
   "source": [
    "input_shape = 28*28\n",
    "num_classes = 10\n",
    "fixed_model = nn.Sequential(\n",
    "            nn.Flatten(), # This layer converts image into a vector to use Linear layers afterwards\n",
    "            # Your network structure comes here\n",
    "            nn.Dropout(p=0.5),        \n",
    "            nn.Linear(input_shape, input_shape*2),\n",
    "            nn.BatchNorm1d(input_shape*2, momentum=0.8),\n",
    "            nn.ReLU(),\n",
    "            nn.Dropout(p=0.5),\n",
    "            nn.Linear(input_shape*2, input_shape*2),\n",
    "            nn.BatchNorm1d(input_shape*2, momentum=0.8),\n",
    "            nn.ReLU(),\n",
    "            nn.Dropout(0.4),\n",
    "            \n",
    "            nn.Linear(input_shape*2, num_classes),\n",
    "            nn.LogSoftmax()\n",
    "        )\n",
    "fixed_model.to(device, torch.float32)"
   ]
  },
  {
   "cell_type": "code",
   "execution_count": 68,
   "metadata": {},
   "outputs": [
    {
     "name": "stdout",
     "output_type": "stream",
     "text": [
      "----------------------------------------------------------------\n",
      "        Layer (type)               Output Shape         Param #\n",
      "================================================================\n",
      "           Flatten-1                  [-1, 784]               0\n",
      "           Dropout-2                  [-1, 784]               0\n",
      "            Linear-3                 [-1, 1568]       1,230,880\n",
      "       BatchNorm1d-4                 [-1, 1568]           3,136\n",
      "              ReLU-5                 [-1, 1568]               0\n",
      "           Dropout-6                 [-1, 1568]               0\n",
      "            Linear-7                 [-1, 1568]       2,460,192\n",
      "       BatchNorm1d-8                 [-1, 1568]           3,136\n",
      "              ReLU-9                 [-1, 1568]               0\n",
      "          Dropout-10                 [-1, 1568]               0\n",
      "           Linear-11                   [-1, 10]          15,690\n",
      "       LogSoftmax-12                   [-1, 10]               0\n",
      "================================================================\n",
      "Total params: 3,713,034\n",
      "Trainable params: 3,713,034\n",
      "Non-trainable params: 0\n",
      "----------------------------------------------------------------\n",
      "Input size (MB): 0.00\n",
      "Forward/backward pass size (MB): 0.11\n",
      "Params size (MB): 14.16\n",
      "Estimated Total Size (MB): 14.27\n",
      "----------------------------------------------------------------\n"
     ]
    }
   ],
   "source": [
    "torchsummary.summary(fixed_model.to(device), (28*28,))"
   ]
  },
  {
   "cell_type": "code",
   "execution_count": 71,
   "metadata": {},
   "outputs": [
    {
     "name": "stdout",
     "output_type": "stream",
     "text": [
      "Epoch 1 of 50 took 23.334s\n",
      "\t  training loss: 0.410392\n",
      "\tvalidation loss: 0.336401\n",
      "\tvalidation accuracy: 0.869\n",
      "Epoch 2 of 50 took 20.283s\n",
      "\t  training loss: 0.404063\n",
      "\tvalidation loss: 0.348646\n",
      "\tvalidation accuracy: 0.867\n",
      "Epoch 3 of 50 took 20.640s\n",
      "\t  training loss: 0.397409\n",
      "\tvalidation loss: 0.350201\n",
      "\tvalidation accuracy: 0.870\n",
      "Epoch 4 of 50 took 24.583s\n",
      "\t  training loss: 0.389661\n",
      "\tvalidation loss: 0.340242\n",
      "\tvalidation accuracy: 0.871\n",
      "Epoch 5 of 50 took 23.411s\n",
      "\t  training loss: 0.385221\n",
      "\tvalidation loss: 0.337621\n",
      "\tvalidation accuracy: 0.881\n",
      "Epoch 6 of 50 took 24.592s\n",
      "\t  training loss: 0.383844\n",
      "\tvalidation loss: 0.327897\n",
      "\tvalidation accuracy: 0.872\n",
      "Epoch 7 of 50 took 22.722s\n",
      "\t  training loss: 0.380601\n",
      "\tvalidation loss: 0.327914\n",
      "\tvalidation accuracy: 0.879\n",
      "Epoch 8 of 50 took 24.911s\n",
      "\t  training loss: 0.378776\n",
      "\tvalidation loss: 0.327309\n",
      "\tvalidation accuracy: 0.873\n",
      "Epoch 9 of 50 took 23.610s\n",
      "\t  training loss: 0.370498\n",
      "\tvalidation loss: 0.321567\n",
      "\tvalidation accuracy: 0.874\n",
      "Epoch 10 of 50 took 21.652s\n",
      "\t  training loss: 0.369888\n",
      "\tvalidation loss: 0.321100\n",
      "\tvalidation accuracy: 0.878\n",
      "Epoch 11 of 50 took 22.469s\n",
      "\t  training loss: 0.368491\n",
      "\tvalidation loss: 0.324460\n",
      "\tvalidation accuracy: 0.877\n",
      "Epoch 12 of 50 took 21.752s\n",
      "\t  training loss: 0.365387\n",
      "\tvalidation loss: 0.320616\n",
      "\tvalidation accuracy: 0.872\n",
      "Epoch 13 of 50 took 22.524s\n",
      "\t  training loss: 0.362988\n",
      "\tvalidation loss: 0.324506\n",
      "\tvalidation accuracy: 0.878\n",
      "Epoch 14 of 50 took 23.396s\n",
      "\t  training loss: 0.357483\n",
      "\tvalidation loss: 0.315154\n",
      "\tvalidation accuracy: 0.877\n",
      "Epoch 15 of 50 took 21.064s\n",
      "\t  training loss: 0.355366\n",
      "\tvalidation loss: 0.314880\n",
      "\tvalidation accuracy: 0.878\n",
      "Epoch 16 of 50 took 21.409s\n",
      "\t  training loss: 0.352740\n",
      "\tvalidation loss: 0.322500\n",
      "\tvalidation accuracy: 0.877\n",
      "Epoch 17 of 50 took 21.917s\n",
      "\t  training loss: 0.349400\n",
      "\tvalidation loss: 0.309455\n",
      "\tvalidation accuracy: 0.880\n",
      "Epoch 18 of 50 took 23.971s\n",
      "\t  training loss: 0.349723\n",
      "\tvalidation loss: 0.317139\n",
      "\tvalidation accuracy: 0.875\n",
      "Epoch 19 of 50 took 22.057s\n",
      "\t  training loss: 0.348979\n",
      "\tvalidation loss: 0.314291\n",
      "\tvalidation accuracy: 0.881\n",
      "Epoch 20 of 50 took 21.885s\n",
      "\t  training loss: 0.345453\n",
      "\tvalidation loss: 0.325461\n",
      "\tvalidation accuracy: 0.871\n",
      "Epoch 21 of 50 took 26.168s\n",
      "\t  training loss: 0.342817\n",
      "\tvalidation loss: 0.335728\n",
      "\tvalidation accuracy: 0.879\n",
      "Epoch 22 of 50 took 23.789s\n",
      "\t  training loss: 0.343098\n",
      "\tvalidation loss: 0.316698\n",
      "\tvalidation accuracy: 0.878\n",
      "Epoch 23 of 50 took 22.338s\n",
      "\t  training loss: 0.339577\n",
      "\tvalidation loss: 0.318525\n",
      "\tvalidation accuracy: 0.881\n",
      "Epoch 24 of 50 took 29.247s\n",
      "\t  training loss: 0.337261\n",
      "\tvalidation loss: 0.302718\n",
      "\tvalidation accuracy: 0.884\n",
      "Epoch 25 of 50 took 31.990s\n",
      "\t  training loss: 0.336895\n",
      "\tvalidation loss: 0.301849\n",
      "\tvalidation accuracy: 0.885\n",
      "Epoch 26 of 50 took 31.061s\n",
      "\t  training loss: 0.334746\n",
      "\tvalidation loss: 0.310218\n",
      "\tvalidation accuracy: 0.882\n",
      "Epoch 27 of 50 took 33.378s\n",
      "\t  training loss: 0.334825\n",
      "\tvalidation loss: 0.320042\n",
      "\tvalidation accuracy: 0.881\n",
      "Epoch 28 of 50 took 23.471s\n",
      "\t  training loss: 0.332687\n",
      "\tvalidation loss: 0.309310\n",
      "\tvalidation accuracy: 0.887\n",
      "Epoch 29 of 50 took 19.716s\n",
      "\t  training loss: 0.331900\n",
      "\tvalidation loss: 0.329031\n",
      "\tvalidation accuracy: 0.878\n",
      "Epoch 30 of 50 took 22.342s\n",
      "\t  training loss: 0.328156\n",
      "\tvalidation loss: 0.310336\n",
      "\tvalidation accuracy: 0.881\n",
      "Epoch 31 of 50 took 19.451s\n",
      "\t  training loss: 0.323752\n",
      "\tvalidation loss: 0.301855\n",
      "\tvalidation accuracy: 0.883\n",
      "Epoch 32 of 50 took 21.581s\n",
      "\t  training loss: 0.324476\n",
      "\tvalidation loss: 0.309268\n",
      "\tvalidation accuracy: 0.883\n",
      "Epoch 33 of 50 took 19.671s\n",
      "\t  training loss: 0.325356\n",
      "\tvalidation loss: 0.325560\n",
      "\tvalidation accuracy: 0.879\n",
      "Epoch 34 of 50 took 19.606s\n",
      "\t  training loss: 0.325823\n",
      "\tvalidation loss: 0.318812\n",
      "\tvalidation accuracy: 0.881\n",
      "Epoch 35 of 50 took 23.663s\n",
      "\t  training loss: 0.324630\n",
      "\tvalidation loss: 0.305044\n",
      "\tvalidation accuracy: 0.880\n",
      "Epoch 36 of 50 took 23.177s\n",
      "\t  training loss: 0.319235\n",
      "\tvalidation loss: 0.297958\n",
      "\tvalidation accuracy: 0.885\n",
      "Epoch 37 of 50 took 21.667s\n",
      "\t  training loss: 0.320370\n",
      "\tvalidation loss: 0.306445\n",
      "\tvalidation accuracy: 0.889\n",
      "Epoch 38 of 50 took 22.057s\n",
      "\t  training loss: 0.315556\n",
      "\tvalidation loss: 0.322150\n",
      "\tvalidation accuracy: 0.878\n",
      "Epoch 39 of 50 took 21.569s\n",
      "\t  training loss: 0.315110\n",
      "\tvalidation loss: 0.299017\n",
      "\tvalidation accuracy: 0.882\n",
      "Epoch 40 of 50 took 21.774s\n",
      "\t  training loss: 0.316174\n",
      "\tvalidation loss: 0.301786\n",
      "\tvalidation accuracy: 0.885\n",
      "Epoch 41 of 50 took 23.926s\n",
      "\t  training loss: 0.317834\n",
      "\tvalidation loss: 0.295878\n",
      "\tvalidation accuracy: 0.888\n",
      "Epoch 42 of 50 took 22.185s\n",
      "\t  training loss: 0.313977\n",
      "\tvalidation loss: 0.317064\n",
      "\tvalidation accuracy: 0.881\n",
      "Epoch 43 of 50 took 21.691s\n",
      "\t  training loss: 0.308621\n",
      "\tvalidation loss: 0.291840\n",
      "\tvalidation accuracy: 0.892\n",
      "Epoch 44 of 50 took 23.196s\n",
      "\t  training loss: 0.315940\n",
      "\tvalidation loss: 0.298519\n",
      "\tvalidation accuracy: 0.887\n",
      "Epoch 45 of 50 took 21.818s\n",
      "\t  training loss: 0.311631\n",
      "\tvalidation loss: 0.321903\n",
      "\tvalidation accuracy: 0.880\n",
      "Epoch 46 of 50 took 23.538s\n",
      "\t  training loss: 0.311972\n",
      "\tvalidation loss: 0.303005\n",
      "\tvalidation accuracy: 0.886\n",
      "Epoch 47 of 50 took 22.285s\n",
      "\t  training loss: 0.308798\n",
      "\tvalidation loss: 0.285557\n",
      "\tvalidation accuracy: 0.891\n",
      "Epoch 48 of 50 took 21.678s\n",
      "\t  training loss: 0.305489\n",
      "\tvalidation loss: 0.309925\n",
      "\tvalidation accuracy: 0.887\n",
      "Epoch 49 of 50 took 22.217s\n",
      "\t  training loss: 0.306747\n",
      "\tvalidation loss: 0.291981\n",
      "\tvalidation accuracy: 0.894\n",
      "Epoch 50 of 50 took 22.382s\n",
      "\t  training loss: 0.306468\n",
      "\tvalidation loss: 0.312985\n",
      "\tvalidation accuracy: 0.886\n"
     ]
    }
   ],
   "source": [
    "loss_func = nn.NLLLoss() # YOUR CODE HERE\n",
    "n_epochs = 50\n",
    "opt = torch.optim.Adam(fixed_model.parameters(), lr=1e-3) \n",
    "train_loss, val_loss, val_accuracy = train_model(fixed_model, train_loader, val_loader, loss_func, opt, n_epochs)\n",
    "\n",
    "# Your experiments, come here"
   ]
  },
  {
   "cell_type": "code",
   "execution_count": 72,
   "metadata": {},
   "outputs": [
    {
     "data": {
      "image/png": "[encoded data removed]",
      "text/plain": [
       "<Figure size 1080x360 with 2 Axes>"
      ]
     },
     "metadata": {},
     "output_type": "display_data"
    }
   ],
   "source": [
    "plot_train_process(train_loss, val_loss, val_accuracy)"
   ]
  },
  {
   "cell_type": "code",
   "execution_count": 73,
   "metadata": {},
   "outputs": [
    {
     "name": "stdout",
     "output_type": "stream",
     "text": [
      "accuracy on test:  0.880125\n"
     ]
    }
   ],
   "source": [
    "for X_batch, y_batch in test_loader:\n",
    "    X_batch= X_batch.to(device)\n",
    "    out = fixed_model(X_batch)\n",
    "    y_pred = out.max(dim=1)[1].cpu()\n",
    "    print('accuracy on test: ', accuracy_score(y_pred, y_batch))"
   ]
  },
  {
   "cell_type": "markdown",
   "metadata": {
    "colab_type": "text",
    "id": "dMui_uLJ7G0d"
   },
   "source": [
    "### Conclusions:\n",
    "_Write down small report with your conclusions and your ideas._"
   ]
  },
  {
   "cell_type": "markdown",
   "metadata": {},
   "source": [
    "In the first part I've trained a network just to reach desired accuracy, and the goal was reached. From plots I've noticed that my model became a little bit overfitted.\n",
    "\n",
    "In the second part I used only linear and activation layers which gave me 3.7M trainable parameters, as a result our model was significantly overfitted (train loss decreases, validation loss raises).\n",
    "\n",
    "In the third part I used the linear and activation layers from part 2, but added a dropout and Batch Norm layers, so my model pretty well overcame overfitting problem, but unfortunately validation loss is unstable. As a result on test set it dives us accuracy: 0.880 "
   ]
  },
  {
   "cell_type": "code",
   "execution_count": null,
   "metadata": {},
   "outputs": [],
   "source": []
  }
 ],
 "metadata": {
  "accelerator": "GPU",
  "colab": {
   "collapsed_sections": [],
   "name": "Overfit it.ipynb",
   "provenance": []
  },
  "kernelspec": {
   "display_name": "Python 3",
   "language": "python",
   "name": "python3"
  },
  "language_info": {
   "codemirror_mode": {
    "name": "ipython",
    "version": 3
   },
   "file_extension": ".py",
   "mimetype": "text/x-python",
   "name": "python",
   "nbconvert_exporter": "python",
   "pygments_lexer": "ipython3",
   "version": "3.8.5"
  },
  "widgets": {
   "application/vnd.jupyter.widget-state+json": {
    "0078023356f142bdbe4e13a42df460fb": {
     "model_module": "@jupyter-widgets/controls",
     "model_name": "IntProgressModel",
     "state": {
      "_dom_classes": [],
      "_model_module": "@jupyter-widgets/controls",
      "_model_module_version": "1.5.0",
      "_model_name": "IntProgressModel",
      "_view_count": null,
      "_view_module": "@jupyter-widgets/controls",
      "_view_module_version": "1.5.0",
      "_view_name": "ProgressView",
      "bar_style": "success",
      "description": "",
      "description_tooltip": null,
      "layout": "IPY_MODEL_df2e6c22b8af4a2e95bdd85fb48290a6",
      "max": 1,
      "min": 0,
      "orientation": "horizontal",
      "style": "IPY_MODEL_54a1be4ee00c44a0b72192135f62fa16",
      "value": 1
     }
    },
    "01658e0aebd84db9912ea456bd1ad030": {
     "model_module": "@jupyter-widgets/controls",
     "model_name": "HTMLModel",
     "state": {
      "_dom_classes": [],
      "_model_module": "@jupyter-widgets/controls",
      "_model_module_version": "1.5.0",
      "_model_name": "HTMLModel",
      "_view_count": null,
      "_view_module": "@jupyter-widgets/controls",
      "_view_module_version": "1.5.0",
      "_view_name": "HTMLView",
      "description": "",
      "description_tooltip": null,
      "layout": "IPY_MODEL_30540b2b63064d828fd8502fd6d08877",
      "placeholder": "​",
      "style": "IPY_MODEL_835f930bb1504982aa56c835dc7b7df7",
      "value": "4423680it [00:01, 3086127.05it/s]"
     }
    },
    "029f1768c5734beab39a592b44f75a9d": {
     "model_module": "@jupyter-widgets/base",
     "model_name": "LayoutModel",
     "state": {
      "_model_module": "@jupyter-widgets/base",
      "_model_module_version": "1.2.0",
      "_model_name": "LayoutModel",
      "_view_count": null,
      "_view_module": "@jupyter-widgets/base",
      "_view_module_version": "1.2.0",
      "_view_name": "LayoutView",
      "align_content": null,
      "align_items": null,
      "align_self": null,
      "border": null,
      "bottom": null,
      "display": null,
      "flex": null,
      "flex_flow": null,
      "grid_area": null,
      "grid_auto_columns": null,
      "grid_auto_flow": null,
      "grid_auto_rows": null,
      "grid_column": null,
      "grid_gap": null,
      "grid_row": null,
      "grid_template_areas": null,
      "grid_template_columns": null,
      "grid_template_rows": null,
      "height": null,
      "justify_content": null,
      "justify_items": null,
      "left": null,
      "margin": null,
      "max_height": null,
      "max_width": null,
      "min_height": null,
      "min_width": null,
      "object_fit": null,
      "object_position": null,
      "order": null,
      "overflow": null,
      "overflow_x": null,
      "overflow_y": null,
      "padding": null,
      "right": null,
      "top": null,
      "visibility": null,
      "width": null
     }
    },
    "181b94c37c72459ca284267bc7675469": {
     "model_module": "@jupyter-widgets/controls",
     "model_name": "DescriptionStyleModel",
     "state": {
      "_model_module": "@jupyter-widgets/controls",
      "_model_module_version": "1.5.0",
      "_model_name": "DescriptionStyleModel",
      "_view_count": null,
      "_view_module": "@jupyter-widgets/base",
      "_view_module_version": "1.2.0",
      "_view_name": "StyleView",
      "description_width": ""
     }
    },
    "26a1b39d42ee490b8732f0e3856c9114": {
     "model_module": "@jupyter-widgets/controls",
     "model_name": "ProgressStyleModel",
     "state": {
      "_model_module": "@jupyter-widgets/controls",
      "_model_module_version": "1.5.0",
      "_model_name": "ProgressStyleModel",
      "_view_count": null,
      "_view_module": "@jupyter-widgets/base",
      "_view_module_version": "1.2.0",
      "_view_name": "StyleView",
      "bar_color": null,
      "description_width": ""
     }
    },
    "29b0a8c468e6410fb390b903559d6ef5": {
     "model_module": "@jupyter-widgets/base",
     "model_name": "LayoutModel",
     "state": {
      "_model_module": "@jupyter-widgets/base",
      "_model_module_version": "1.2.0",
      "_model_name": "LayoutModel",
      "_view_count": null,
      "_view_module": "@jupyter-widgets/base",
      "_view_module_version": "1.2.0",
      "_view_name": "LayoutView",
      "align_content": null,
      "align_items": null,
      "align_self": null,
      "border": null,
      "bottom": null,
      "display": null,
      "flex": null,
      "flex_flow": null,
      "grid_area": null,
      "grid_auto_columns": null,
      "grid_auto_flow": null,
      "grid_auto_rows": null,
      "grid_column": null,
      "grid_gap": null,
      "grid_row": null,
      "grid_template_areas": null,
      "grid_template_columns": null,
      "grid_template_rows": null,
      "height": null,
      "justify_content": null,
      "justify_items": null,
      "left": null,
      "margin": null,
      "max_height": null,
      "max_width": null,
      "min_height": null,
      "min_width": null,
      "object_fit": null,
      "object_position": null,
      "order": null,
      "overflow": null,
      "overflow_x": null,
      "overflow_y": null,
      "padding": null,
      "right": null,
      "top": null,
      "visibility": null,
      "width": null
     }
    },
    "30540b2b63064d828fd8502fd6d08877": {
     "model_module": "@jupyter-widgets/base",
     "model_name": "LayoutModel",
     "state": {
      "_model_module": "@jupyter-widgets/base",
      "_model_module_version": "1.2.0",
      "_model_name": "LayoutModel",
      "_view_count": null,
      "_view_module": "@jupyter-widgets/base",
      "_view_module_version": "1.2.0",
      "_view_name": "LayoutView",
      "align_content": null,
      "align_items": null,
      "align_self": null,
      "border": null,
      "bottom": null,
      "display": null,
      "flex": null,
      "flex_flow": null,
      "grid_area": null,
      "grid_auto_columns": null,
      "grid_auto_flow": null,
      "grid_auto_rows": null,
      "grid_column": null,
      "grid_gap": null,
      "grid_row": null,
      "grid_template_areas": null,
      "grid_template_columns": null,
      "grid_template_rows": null,
      "height": null,
      "justify_content": null,
      "justify_items": null,
      "left": null,
      "margin": null,
      "max_height": null,
      "max_width": null,
      "min_height": null,
      "min_width": null,
      "object_fit": null,
      "object_position": null,
      "order": null,
      "overflow": null,
      "overflow_x": null,
      "overflow_y": null,
      "padding": null,
      "right": null,
      "top": null,
      "visibility": null,
      "width": null
     }
    },
    "4296a7e9ab704f019451001dd12c4f46": {
     "model_module": "@jupyter-widgets/controls",
     "model_name": "DescriptionStyleModel",
     "state": {
      "_model_module": "@jupyter-widgets/controls",
      "_model_module_version": "1.5.0",
      "_model_name": "DescriptionStyleModel",
      "_view_count": null,
      "_view_module": "@jupyter-widgets/base",
      "_view_module_version": "1.2.0",
      "_view_name": "StyleView",
      "description_width": ""
     }
    },
    "4c7a7ac1286649c4804fefd359a1be74": {
     "model_module": "@jupyter-widgets/base",
     "model_name": "LayoutModel",
     "state": {
      "_model_module": "@jupyter-widgets/base",
      "_model_module_version": "1.2.0",
      "_model_name": "LayoutModel",
      "_view_count": null,
      "_view_module": "@jupyter-widgets/base",
      "_view_module_version": "1.2.0",
      "_view_name": "LayoutView",
      "align_content": null,
      "align_items": null,
      "align_self": null,
      "border": null,
      "bottom": null,
      "display": null,
      "flex": null,
      "flex_flow": null,
      "grid_area": null,
      "grid_auto_columns": null,
      "grid_auto_flow": null,
      "grid_auto_rows": null,
      "grid_column": null,
      "grid_gap": null,
      "grid_row": null,
      "grid_template_areas": null,
      "grid_template_columns": null,
      "grid_template_rows": null,
      "height": null,
      "justify_content": null,
      "justify_items": null,
      "left": null,
      "margin": null,
      "max_height": null,
      "max_width": null,
      "min_height": null,
      "min_width": null,
      "object_fit": null,
      "object_position": null,
      "order": null,
      "overflow": null,
      "overflow_x": null,
      "overflow_y": null,
      "padding": null,
      "right": null,
      "top": null,
      "visibility": null,
      "width": null
     }
    },
    "545f1e0393b64b1b94710674213f4af8": {
     "model_module": "@jupyter-widgets/base",
     "model_name": "LayoutModel",
     "state": {
      "_model_module": "@jupyter-widgets/base",
      "_model_module_version": "1.2.0",
      "_model_name": "LayoutModel",
      "_view_count": null,
      "_view_module": "@jupyter-widgets/base",
      "_view_module_version": "1.2.0",
      "_view_name": "LayoutView",
      "align_content": null,
      "align_items": null,
      "align_self": null,
      "border": null,
      "bottom": null,
      "display": null,
      "flex": null,
      "flex_flow": null,
      "grid_area": null,
      "grid_auto_columns": null,
      "grid_auto_flow": null,
      "grid_auto_rows": null,
      "grid_column": null,
      "grid_gap": null,
      "grid_row": null,
      "grid_template_areas": null,
      "grid_template_columns": null,
      "grid_template_rows": null,
      "height": null,
      "justify_content": null,
      "justify_items": null,
      "left": null,
      "margin": null,
      "max_height": null,
      "max_width": null,
      "min_height": null,
      "min_width": null,
      "object_fit": null,
      "object_position": null,
      "order": null,
      "overflow": null,
      "overflow_x": null,
      "overflow_y": null,
      "padding": null,
      "right": null,
      "top": null,
      "visibility": null,
      "width": null
     }
    },
    "54a1be4ee00c44a0b72192135f62fa16": {
     "model_module": "@jupyter-widgets/controls",
     "model_name": "ProgressStyleModel",
     "state": {
      "_model_module": "@jupyter-widgets/controls",
      "_model_module_version": "1.5.0",
      "_model_name": "ProgressStyleModel",
      "_view_count": null,
      "_view_module": "@jupyter-widgets/base",
      "_view_module_version": "1.2.0",
      "_view_name": "StyleView",
      "bar_color": null,
      "description_width": ""
     }
    },
    "56418812bda04e7293dd8839018ae839": {
     "model_module": "@jupyter-widgets/base",
     "model_name": "LayoutModel",
     "state": {
      "_model_module": "@jupyter-widgets/base",
      "_model_module_version": "1.2.0",
      "_model_name": "LayoutModel",
      "_view_count": null,
      "_view_module": "@jupyter-widgets/base",
      "_view_module_version": "1.2.0",
      "_view_name": "LayoutView",
      "align_content": null,
      "align_items": null,
      "align_self": null,
      "border": null,
      "bottom": null,
      "display": null,
      "flex": null,
      "flex_flow": null,
      "grid_area": null,
      "grid_auto_columns": null,
      "grid_auto_flow": null,
      "grid_auto_rows": null,
      "grid_column": null,
      "grid_gap": null,
      "grid_row": null,
      "grid_template_areas": null,
      "grid_template_columns": null,
      "grid_template_rows": null,
      "height": null,
      "justify_content": null,
      "justify_items": null,
      "left": null,
      "margin": null,
      "max_height": null,
      "max_width": null,
      "min_height": null,
      "min_width": null,
      "object_fit": null,
      "object_position": null,
      "order": null,
      "overflow": null,
      "overflow_x": null,
      "overflow_y": null,
      "padding": null,
      "right": null,
      "top": null,
      "visibility": null,
      "width": null
     }
    },
    "583e6f0878e04a0bbebf5d80d9d712dc": {
     "model_module": "@jupyter-widgets/base",
     "model_name": "LayoutModel",
     "state": {
      "_model_module": "@jupyter-widgets/base",
      "_model_module_version": "1.2.0",
      "_model_name": "LayoutModel",
      "_view_count": null,
      "_view_module": "@jupyter-widgets/base",
      "_view_module_version": "1.2.0",
      "_view_name": "LayoutView",
      "align_content": null,
      "align_items": null,
      "align_self": null,
      "border": null,
      "bottom": null,
      "display": null,
      "flex": null,
      "flex_flow": null,
      "grid_area": null,
      "grid_auto_columns": null,
      "grid_auto_flow": null,
      "grid_auto_rows": null,
      "grid_column": null,
      "grid_gap": null,
      "grid_row": null,
      "grid_template_areas": null,
      "grid_template_columns": null,
      "grid_template_rows": null,
      "height": null,
      "justify_content": null,
      "justify_items": null,
      "left": null,
      "margin": null,
      "max_height": null,
      "max_width": null,
      "min_height": null,
      "min_width": null,
      "object_fit": null,
      "object_position": null,
      "order": null,
      "overflow": null,
      "overflow_x": null,
      "overflow_y": null,
      "padding": null,
      "right": null,
      "top": null,
      "visibility": null,
      "width": null
     }
    },
    "590134f878a74adb98fd129816fde03c": {
     "model_module": "@jupyter-widgets/controls",
     "model_name": "HTMLModel",
     "state": {
      "_dom_classes": [],
      "_model_module": "@jupyter-widgets/controls",
      "_model_module_version": "1.5.0",
      "_model_name": "HTMLModel",
      "_view_count": null,
      "_view_module": "@jupyter-widgets/controls",
      "_view_module_version": "1.5.0",
      "_view_name": "HTMLView",
      "description": "",
      "description_tooltip": null,
      "layout": "IPY_MODEL_29b0a8c468e6410fb390b903559d6ef5",
      "placeholder": "​",
      "style": "IPY_MODEL_4296a7e9ab704f019451001dd12c4f46",
      "value": "26427392it [00:02, 10150318.78it/s]"
     }
    },
    "748c2a2536394a50aab12eef92442fcb": {
     "model_module": "@jupyter-widgets/base",
     "model_name": "LayoutModel",
     "state": {
      "_model_module": "@jupyter-widgets/base",
      "_model_module_version": "1.2.0",
      "_model_name": "LayoutModel",
      "_view_count": null,
      "_view_module": "@jupyter-widgets/base",
      "_view_module_version": "1.2.0",
      "_view_name": "LayoutView",
      "align_content": null,
      "align_items": null,
      "align_self": null,
      "border": null,
      "bottom": null,
      "display": null,
      "flex": null,
      "flex_flow": null,
      "grid_area": null,
      "grid_auto_columns": null,
      "grid_auto_flow": null,
      "grid_auto_rows": null,
      "grid_column": null,
      "grid_gap": null,
      "grid_row": null,
      "grid_template_areas": null,
      "grid_template_columns": null,
      "grid_template_rows": null,
      "height": null,
      "justify_content": null,
      "justify_items": null,
      "left": null,
      "margin": null,
      "max_height": null,
      "max_width": null,
      "min_height": null,
      "min_width": null,
      "object_fit": null,
      "object_position": null,
      "order": null,
      "overflow": null,
      "overflow_x": null,
      "overflow_y": null,
      "padding": null,
      "right": null,
      "top": null,
      "visibility": null,
      "width": null
     }
    },
    "835f930bb1504982aa56c835dc7b7df7": {
     "model_module": "@jupyter-widgets/controls",
     "model_name": "DescriptionStyleModel",
     "state": {
      "_model_module": "@jupyter-widgets/controls",
      "_model_module_version": "1.5.0",
      "_model_name": "DescriptionStyleModel",
      "_view_count": null,
      "_view_module": "@jupyter-widgets/base",
      "_view_module_version": "1.2.0",
      "_view_name": "StyleView",
      "description_width": ""
     }
    },
    "92685fe1840a4555a6962c006ea90c23": {
     "model_module": "@jupyter-widgets/controls",
     "model_name": "ProgressStyleModel",
     "state": {
      "_model_module": "@jupyter-widgets/controls",
      "_model_module_version": "1.5.0",
      "_model_name": "ProgressStyleModel",
      "_view_count": null,
      "_view_module": "@jupyter-widgets/base",
      "_view_module_version": "1.2.0",
      "_view_name": "StyleView",
      "bar_color": null,
      "description_width": ""
     }
    },
    "9761d073bcef4c15ad64b01d7bef3561": {
     "model_module": "@jupyter-widgets/controls",
     "model_name": "DescriptionStyleModel",
     "state": {
      "_model_module": "@jupyter-widgets/controls",
      "_model_module_version": "1.5.0",
      "_model_name": "DescriptionStyleModel",
      "_view_count": null,
      "_view_module": "@jupyter-widgets/base",
      "_view_module_version": "1.2.0",
      "_view_name": "StyleView",
      "description_width": ""
     }
    },
    "9faad8d0c45746ab8e06e120bb3ec0b6": {
     "model_module": "@jupyter-widgets/controls",
     "model_name": "IntProgressModel",
     "state": {
      "_dom_classes": [],
      "_model_module": "@jupyter-widgets/controls",
      "_model_module_version": "1.5.0",
      "_model_name": "IntProgressModel",
      "_view_count": null,
      "_view_module": "@jupyter-widgets/controls",
      "_view_module_version": "1.5.0",
      "_view_name": "ProgressView",
      "bar_style": "success",
      "description": "",
      "description_tooltip": null,
      "layout": "IPY_MODEL_aa0dc032d1644bad8e741cf1696d9a70",
      "max": 1,
      "min": 0,
      "orientation": "horizontal",
      "style": "IPY_MODEL_92685fe1840a4555a6962c006ea90c23",
      "value": 1
     }
    },
    "a00cbbf2385c426bb848399f3c13b70f": {
     "model_module": "@jupyter-widgets/controls",
     "model_name": "HBoxModel",
     "state": {
      "_dom_classes": [],
      "_model_module": "@jupyter-widgets/controls",
      "_model_module_version": "1.5.0",
      "_model_name": "HBoxModel",
      "_view_count": null,
      "_view_module": "@jupyter-widgets/controls",
      "_view_module_version": "1.5.0",
      "_view_name": "HBoxView",
      "box_style": "",
      "children": [
       "IPY_MODEL_9faad8d0c45746ab8e06e120bb3ec0b6",
       "IPY_MODEL_590134f878a74adb98fd129816fde03c"
      ],
      "layout": "IPY_MODEL_4c7a7ac1286649c4804fefd359a1be74"
     }
    },
    "aa0dc032d1644bad8e741cf1696d9a70": {
     "model_module": "@jupyter-widgets/base",
     "model_name": "LayoutModel",
     "state": {
      "_model_module": "@jupyter-widgets/base",
      "_model_module_version": "1.2.0",
      "_model_name": "LayoutModel",
      "_view_count": null,
      "_view_module": "@jupyter-widgets/base",
      "_view_module_version": "1.2.0",
      "_view_name": "LayoutView",
      "align_content": null,
      "align_items": null,
      "align_self": null,
      "border": null,
      "bottom": null,
      "display": null,
      "flex": null,
      "flex_flow": null,
      "grid_area": null,
      "grid_auto_columns": null,
      "grid_auto_flow": null,
      "grid_auto_rows": null,
      "grid_column": null,
      "grid_gap": null,
      "grid_row": null,
      "grid_template_areas": null,
      "grid_template_columns": null,
      "grid_template_rows": null,
      "height": null,
      "justify_content": null,
      "justify_items": null,
      "left": null,
      "margin": null,
      "max_height": null,
      "max_width": null,
      "min_height": null,
      "min_width": null,
      "object_fit": null,
      "object_position": null,
      "order": null,
      "overflow": null,
      "overflow_x": null,
      "overflow_y": null,
      "padding": null,
      "right": null,
      "top": null,
      "visibility": null,
      "width": null
     }
    },
    "b2f66cc8930240a5b74d5480377496ed": {
     "model_module": "@jupyter-widgets/controls",
     "model_name": "HTMLModel",
     "state": {
      "_dom_classes": [],
      "_model_module": "@jupyter-widgets/controls",
      "_model_module_version": "1.5.0",
      "_model_name": "HTMLModel",
      "_view_count": null,
      "_view_module": "@jupyter-widgets/controls",
      "_view_module_version": "1.5.0",
      "_view_name": "HTMLView",
      "description": "",
      "description_tooltip": null,
      "layout": "IPY_MODEL_56418812bda04e7293dd8839018ae839",
      "placeholder": "​",
      "style": "IPY_MODEL_9761d073bcef4c15ad64b01d7bef3561",
      "value": "32768it [00:00, 71991.19it/s]"
     }
    },
    "b9d32ac7b88c4f4e900b160f05c016a3": {
     "model_module": "@jupyter-widgets/controls",
     "model_name": "IntProgressModel",
     "state": {
      "_dom_classes": [],
      "_model_module": "@jupyter-widgets/controls",
      "_model_module_version": "1.5.0",
      "_model_name": "IntProgressModel",
      "_view_count": null,
      "_view_module": "@jupyter-widgets/controls",
      "_view_module_version": "1.5.0",
      "_view_name": "ProgressView",
      "bar_style": "success",
      "description": "",
      "description_tooltip": null,
      "layout": "IPY_MODEL_f280e146d6c54fb59f8ce36f2d1cc6a3",
      "max": 1,
      "min": 0,
      "orientation": "horizontal",
      "style": "IPY_MODEL_c1d770aa9eb34e4d942967c507f94009",
      "value": 1
     }
    },
    "bebcff464bfc44ffa82e311a39cae7d7": {
     "model_module": "@jupyter-widgets/base",
     "model_name": "LayoutModel",
     "state": {
      "_model_module": "@jupyter-widgets/base",
      "_model_module_version": "1.2.0",
      "_model_name": "LayoutModel",
      "_view_count": null,
      "_view_module": "@jupyter-widgets/base",
      "_view_module_version": "1.2.0",
      "_view_name": "LayoutView",
      "align_content": null,
      "align_items": null,
      "align_self": null,
      "border": null,
      "bottom": null,
      "display": null,
      "flex": null,
      "flex_flow": null,
      "grid_area": null,
      "grid_auto_columns": null,
      "grid_auto_flow": null,
      "grid_auto_rows": null,
      "grid_column": null,
      "grid_gap": null,
      "grid_row": null,
      "grid_template_areas": null,
      "grid_template_columns": null,
      "grid_template_rows": null,
      "height": null,
      "justify_content": null,
      "justify_items": null,
      "left": null,
      "margin": null,
      "max_height": null,
      "max_width": null,
      "min_height": null,
      "min_width": null,
      "object_fit": null,
      "object_position": null,
      "order": null,
      "overflow": null,
      "overflow_x": null,
      "overflow_y": null,
      "padding": null,
      "right": null,
      "top": null,
      "visibility": null,
      "width": null
     }
    },
    "bf33fa62bd4546bdbe142239f472fbb3": {
     "model_module": "@jupyter-widgets/controls",
     "model_name": "IntProgressModel",
     "state": {
      "_dom_classes": [],
      "_model_module": "@jupyter-widgets/controls",
      "_model_module_version": "1.5.0",
      "_model_name": "IntProgressModel",
      "_view_count": null,
      "_view_module": "@jupyter-widgets/controls",
      "_view_module_version": "1.5.0",
      "_view_name": "ProgressView",
      "bar_style": "success",
      "description": "",
      "description_tooltip": null,
      "layout": "IPY_MODEL_545f1e0393b64b1b94710674213f4af8",
      "max": 1,
      "min": 0,
      "orientation": "horizontal",
      "style": "IPY_MODEL_26a1b39d42ee490b8732f0e3856c9114",
      "value": 1
     }
    },
    "c1d770aa9eb34e4d942967c507f94009": {
     "model_module": "@jupyter-widgets/controls",
     "model_name": "ProgressStyleModel",
     "state": {
      "_model_module": "@jupyter-widgets/controls",
      "_model_module_version": "1.5.0",
      "_model_name": "ProgressStyleModel",
      "_view_count": null,
      "_view_module": "@jupyter-widgets/base",
      "_view_module_version": "1.2.0",
      "_view_name": "StyleView",
      "bar_color": null,
      "description_width": ""
     }
    },
    "ca04c2ebb96f48109ef440c260aa125a": {
     "model_module": "@jupyter-widgets/controls",
     "model_name": "HTMLModel",
     "state": {
      "_dom_classes": [],
      "_model_module": "@jupyter-widgets/controls",
      "_model_module_version": "1.5.0",
      "_model_name": "HTMLModel",
      "_view_count": null,
      "_view_module": "@jupyter-widgets/controls",
      "_view_module_version": "1.5.0",
      "_view_name": "HTMLView",
      "description": "",
      "description_tooltip": null,
      "layout": "IPY_MODEL_748c2a2536394a50aab12eef92442fcb",
      "placeholder": "​",
      "style": "IPY_MODEL_181b94c37c72459ca284267bc7675469",
      "value": "8192it [00:00, 25429.90it/s]"
     }
    },
    "df2e6c22b8af4a2e95bdd85fb48290a6": {
     "model_module": "@jupyter-widgets/base",
     "model_name": "LayoutModel",
     "state": {
      "_model_module": "@jupyter-widgets/base",
      "_model_module_version": "1.2.0",
      "_model_name": "LayoutModel",
      "_view_count": null,
      "_view_module": "@jupyter-widgets/base",
      "_view_module_version": "1.2.0",
      "_view_name": "LayoutView",
      "align_content": null,
      "align_items": null,
      "align_self": null,
      "border": null,
      "bottom": null,
      "display": null,
      "flex": null,
      "flex_flow": null,
      "grid_area": null,
      "grid_auto_columns": null,
      "grid_auto_flow": null,
      "grid_auto_rows": null,
      "grid_column": null,
      "grid_gap": null,
      "grid_row": null,
      "grid_template_areas": null,
      "grid_template_columns": null,
      "grid_template_rows": null,
      "height": null,
      "justify_content": null,
      "justify_items": null,
      "left": null,
      "margin": null,
      "max_height": null,
      "max_width": null,
      "min_height": null,
      "min_width": null,
      "object_fit": null,
      "object_position": null,
      "order": null,
      "overflow": null,
      "overflow_x": null,
      "overflow_y": null,
      "padding": null,
      "right": null,
      "top": null,
      "visibility": null,
      "width": null
     }
    },
    "e6efdf93b1444984810dd32d506227d5": {
     "model_module": "@jupyter-widgets/controls",
     "model_name": "HBoxModel",
     "state": {
      "_dom_classes": [],
      "_model_module": "@jupyter-widgets/controls",
      "_model_module_version": "1.5.0",
      "_model_name": "HBoxModel",
      "_view_count": null,
      "_view_module": "@jupyter-widgets/controls",
      "_view_module_version": "1.5.0",
      "_view_name": "HBoxView",
      "box_style": "",
      "children": [
       "IPY_MODEL_0078023356f142bdbe4e13a42df460fb",
       "IPY_MODEL_01658e0aebd84db9912ea456bd1ad030"
      ],
      "layout": "IPY_MODEL_583e6f0878e04a0bbebf5d80d9d712dc"
     }
    },
    "e734818e32a54c71b6397ef84b35bf07": {
     "model_module": "@jupyter-widgets/controls",
     "model_name": "HBoxModel",
     "state": {
      "_dom_classes": [],
      "_model_module": "@jupyter-widgets/controls",
      "_model_module_version": "1.5.0",
      "_model_name": "HBoxModel",
      "_view_count": null,
      "_view_module": "@jupyter-widgets/controls",
      "_view_module_version": "1.5.0",
      "_view_name": "HBoxView",
      "box_style": "",
      "children": [
       "IPY_MODEL_bf33fa62bd4546bdbe142239f472fbb3",
       "IPY_MODEL_ca04c2ebb96f48109ef440c260aa125a"
      ],
      "layout": "IPY_MODEL_029f1768c5734beab39a592b44f75a9d"
     }
    },
    "f280e146d6c54fb59f8ce36f2d1cc6a3": {
     "model_module": "@jupyter-widgets/base",
     "model_name": "LayoutModel",
     "state": {
      "_model_module": "@jupyter-widgets/base",
      "_model_module_version": "1.2.0",
      "_model_name": "LayoutModel",
      "_view_count": null,
      "_view_module": "@jupyter-widgets/base",
      "_view_module_version": "1.2.0",
      "_view_name": "LayoutView",
      "align_content": null,
      "align_items": null,
      "align_self": null,
      "border": null,
      "bottom": null,
      "display": null,
      "flex": null,
      "flex_flow": null,
      "grid_area": null,
      "grid_auto_columns": null,
      "grid_auto_flow": null,
      "grid_auto_rows": null,
      "grid_column": null,
      "grid_gap": null,
      "grid_row": null,
      "grid_template_areas": null,
      "grid_template_columns": null,
      "grid_template_rows": null,
      "height": null,
      "justify_content": null,
      "justify_items": null,
      "left": null,
      "margin": null,
      "max_height": null,
      "max_width": null,
      "min_height": null,
      "min_width": null,
      "object_fit": null,
      "object_position": null,
      "order": null,
      "overflow": null,
      "overflow_x": null,
      "overflow_y": null,
      "padding": null,
      "right": null,
      "top": null,
      "visibility": null,
      "width": null
     }
    },
    "fb66cde27d0849bba4947c024e198f7f": {
     "model_module": "@jupyter-widgets/controls",
     "model_name": "HBoxModel",
     "state": {
      "_dom_classes": [],
      "_model_module": "@jupyter-widgets/controls",
      "_model_module_version": "1.5.0",
      "_model_name": "HBoxModel",
      "_view_count": null,
      "_view_module": "@jupyter-widgets/controls",
      "_view_module_version": "1.5.0",
      "_view_name": "HBoxView",
      "box_style": "",
      "children": [
       "IPY_MODEL_b9d32ac7b88c4f4e900b160f05c016a3",
       "IPY_MODEL_b2f66cc8930240a5b74d5480377496ed"
      ],
      "layout": "IPY_MODEL_bebcff464bfc44ffa82e311a39cae7d7"
     }
    }
   }
  }
 },
 "nbformat": 4,
 "nbformat_minor": 1
}
