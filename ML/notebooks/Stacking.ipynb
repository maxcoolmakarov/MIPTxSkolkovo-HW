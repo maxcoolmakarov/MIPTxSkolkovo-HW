{
 "cells": [
  {
   "cell_type": "code",
   "execution_count": 2,
   "id": "ef88aa7e",
   "metadata": {
    "id": "ef88aa7e"
   },
   "outputs": [],
   "source": [
    "import pandas as pd\n",
    "import numpy as np\n",
    "from sklearn.model_selection import train_test_split\n",
    "\n",
    "from sklearn import preprocessing\n",
    "from sklearn.preprocessing import StandardScaler\n",
    "\n",
    "import matplotlib\n",
    "import matplotlib.pyplot as plt\n",
    "plt.style.use('dark_background')\n",
    "\n",
    "train = pd.read_csv('application_train.csv', delimiter=',')\n",
    "test = pd.read_csv('application_test.csv', delimiter=',')\n",
    "\n",
    "new_train_X = train[['AMT_INCOME_TOTAL', 'AMT_CREDIT', 'REGION_POPULATION_RELATIVE', 'DAYS_BIRTH', 'DAYS_EMPLOYED', 'DAYS_REGISTRATION', 'DAYS_ID_PUBLISH',\n",
    "                      'ORGANIZATION_TYPE', 'EXT_SOURCE_2', 'EXT_SOURCE_3', 'DAYS_LAST_PHONE_CHANGE']]\n",
    "new_test = test[['AMT_INCOME_TOTAL', 'AMT_CREDIT', 'REGION_POPULATION_RELATIVE', 'DAYS_BIRTH', 'DAYS_EMPLOYED', 'DAYS_REGISTRATION', 'DAYS_ID_PUBLISH',\n",
    "                      'ORGANIZATION_TYPE', 'EXT_SOURCE_2', 'EXT_SOURCE_3', 'DAYS_LAST_PHONE_CHANGE']]"
   ]
  },
  {
   "cell_type": "code",
   "execution_count": 3,
   "id": "b4b5d40f",
   "metadata": {
    "colab": {
     "base_uri": "https://localhost:8080/"
    },
    "id": "b4b5d40f",
    "outputId": "07674e7f-0e8d-4377-9361-0fec88a0d955"
   },
   "outputs": [
    {
     "name": "stderr",
     "output_type": "stream",
     "text": [
      "/usr/local/lib/python3.7/dist-packages/pandas/core/indexing.py:1734: SettingWithCopyWarning: \n",
      "A value is trying to be set on a copy of a slice from a DataFrame.\n",
      "Try using .loc[row_indexer,col_indexer] = value instead\n",
      "\n",
      "See the caveats in the documentation: https://pandas.pydata.org/pandas-docs/stable/user_guide/indexing.html#returning-a-view-versus-a-copy\n",
      "  isetter(loc, value[:, i].tolist())\n",
      "/usr/local/lib/python3.7/dist-packages/pandas/core/indexing.py:1734: SettingWithCopyWarning: \n",
      "A value is trying to be set on a copy of a slice from a DataFrame.\n",
      "Try using .loc[row_indexer,col_indexer] = value instead\n",
      "\n",
      "See the caveats in the documentation: https://pandas.pydata.org/pandas-docs/stable/user_guide/indexing.html#returning-a-view-versus-a-copy\n",
      "  isetter(loc, value[:, i].tolist())\n"
     ]
    }
   ],
   "source": [
    "encoder = preprocessing.OrdinalEncoder(handle_unknown = 'use_encoded_value', unknown_value = -1)\n",
    "new_train_X.loc[:,'ORGANIZATION_TYPE'] = encoder.fit_transform(new_train_X['ORGANIZATION_TYPE'].fillna('').to_numpy().reshape(-1, 1))\n",
    "new_test.loc[:,'ORGANIZATION_TYPE'] = encoder.transform(new_test['ORGANIZATION_TYPE'].fillna('').to_numpy().reshape(-1, 1))"
   ]
  },
  {
   "cell_type": "code",
   "execution_count": 4,
   "id": "4f201f3b",
   "metadata": {
    "colab": {
     "base_uri": "https://localhost:8080/"
    },
    "id": "4f201f3b",
    "outputId": "c4308f48-9153-4ec3-d3d3-7c1f63d12a48"
   },
   "outputs": [
    {
     "name": "stderr",
     "output_type": "stream",
     "text": [
      "/usr/local/lib/python3.7/dist-packages/pandas/core/frame.py:4327: SettingWithCopyWarning: \n",
      "A value is trying to be set on a copy of a slice from a DataFrame\n",
      "\n",
      "See the caveats in the documentation: https://pandas.pydata.org/pandas-docs/stable/user_guide/indexing.html#returning-a-view-versus-a-copy\n",
      "  downcast=downcast,\n"
     ]
    }
   ],
   "source": [
    "new_train_X.fillna(0, inplace = True)\n",
    "new_test.fillna(0, inplace = True)"
   ]
  },
  {
   "cell_type": "code",
   "execution_count": 5,
   "id": "27b50a37",
   "metadata": {
    "id": "27b50a37"
   },
   "outputs": [],
   "source": [
    "param1 = {\n",
    "    'booster' : 'gblinear', #type of model\n",
    "    'lambda': 0,  # L2 reg\n",
    "    'alpha': 0, #L1 reg\n",
    "    'verbosity': 2, #INFO\n",
    "    'feature_selector': 'cyclic',  # Feature selection and ordering method\n",
    "    'objective': 'binary:logistic',  # objective function (in this case for binary classification task)\n",
    "    'eval_metric': 'aucpr'}\n",
    "param2 = {\n",
    "    'max_depth': 5,  # max tree depth\n",
    "    'eta': 0.3,  # learning rate / step size\n",
    "    'eval_metric': 'aucpr',\n",
    "    'lambda' : 1,\n",
    "    'verbosity': 1}#INFO\n",
    "params_rf = {\n",
    "    'colsample_bynode': 0.8,\n",
    "    'learning_rate': 1,\n",
    "    'max_depth': 5,\n",
    "    'num_parallel_tree': 60,\n",
    "    'objective': 'binary:logistic',\n",
    "    'subsample': 0.8,\n",
    "    'eval_metric': 'aucpr',\n",
    "    'tree_method': 'gpu_hist'\n",
    "}\n",
    "params_rf2 = {\n",
    "    'colsample_bynode': 0.7,\n",
    "    'learning_rate': 1,\n",
    "    'max_depth': 3,\n",
    "    'eval_metric': 'aucpr',\n",
    "    'num_parallel_tree': 60,\n",
    "    'objective': 'binary:logistic',\n",
    "    'subsample': 0.8,\n",
    "    'lambda' : 0.7,\n",
    "    'tree_method': 'gpu_hist'\n",
    "}"
   ]
  },
  {
   "cell_type": "code",
   "execution_count": 37,
   "id": "c77784d0",
   "metadata": {
    "id": "c77784d0"
   },
   "outputs": [],
   "source": [
    "import xgboost as xgb\n",
    "from sklearn.pipeline import make_pipeline\n",
    "from sklearn.linear_model import LogisticRegression\n",
    "estimators = [\n",
    "     ('gradboosting1', xgb.XGBClassifier(n_estimators = 20, booster = 'gblinear', reg_lambda = 0, objective = 'binary:logistic', eval_metric = 'aucpr')),\n",
    "     ('gradboosting2', xgb.XGBClassifier(n_estimators = 20, max_depth = 5, eta = 0.3, eval_metric = 'aucpr', reg_lambda = 1)),\n",
    "     ('rf1', xgb.XGBClassifier(n_estimators = 20, colsample_bynode = 0.8, learning_rate = 1, max_depth = 5, \n",
    "                               num_parallel_tree = 60, objective = 'binary:logistic', subsample = 0.8, eval_metric = 'aucpr', tree_method = 'gpu_hist')),\n",
    "     ('rf2', xgb.XGBClassifier(n_estimators = 20, colsample_bynode = 0.7, learning_rate = 1, max_depth = 3, reg_lambda = 0.7, \n",
    "                               num_parallel_tree = 60, objective = 'binary:logistic', subsample = 0.8, eval_metric = 'aucpr', tree_method = 'gpu_hist')),\n",
    "     ('logreg', make_pipeline(StandardScaler(),\n",
    "                          LogisticRegression(class_weight = 'balanced', solver='sag', tol=1e-4, max_iter=5000, random_state=0, C = 1)\n",
    "                             )\n",
    "     )\n",
    "]"
   ]
  },
  {
   "cell_type": "code",
   "execution_count": 38,
   "id": "b0513795",
   "metadata": {
    "id": "b0513795"
   },
   "outputs": [],
   "source": [
    "from sklearn.model_selection import train_test_split\n",
    "X_train, X_test, y_train, y_test = train_test_split(new_train_X, train.TARGET, test_size=0.35, shuffle = True)"
   ]
  },
  {
   "cell_type": "code",
   "execution_count": 39,
   "id": "26fcf09e",
   "metadata": {
    "colab": {
     "base_uri": "https://localhost:8080/"
    },
    "id": "26fcf09e",
    "outputId": "f948b84a-9e32-4787-b3b6-f21e3a4d4fdf"
   },
   "outputs": [
    {
     "data": {
      "text/plain": [
       "StackingClassifier(estimators=[('gradboosting1',\n",
       "                                XGBClassifier(booster='gblinear',\n",
       "                                              eval_metric='aucpr',\n",
       "                                              n_estimators=20, reg_lambda=0)),\n",
       "                               ('gradboosting2',\n",
       "                                XGBClassifier(eta=0.3, eval_metric='aucpr',\n",
       "                                              max_depth=5, n_estimators=20)),\n",
       "                               ('rf1',\n",
       "                                XGBClassifier(colsample_bynode=0.8,\n",
       "                                              eval_metric='aucpr',\n",
       "                                              learning_rate=1, max_depth=5,\n",
       "                                              n_estimators=20,\n",
       "                                              num_parallel_tree=60,\n",
       "                                              su...\n",
       "                                              eval_metric='aucpr',\n",
       "                                              learning_rate=1, n_estimators=20,\n",
       "                                              num_parallel_tree=60,\n",
       "                                              reg_lambda=0.7, subsample=0.8,\n",
       "                                              tree_method='gpu_hist')),\n",
       "                               ('logreg',\n",
       "                                Pipeline(steps=[('standardscaler',\n",
       "                                                 StandardScaler()),\n",
       "                                                ('logisticregression',\n",
       "                                                 LogisticRegression(C=1,\n",
       "                                                                    class_weight='balanced',\n",
       "                                                                    max_iter=5000,\n",
       "                                                                    random_state=0,\n",
       "                                                                    solver='sag'))]))],\n",
       "                   final_estimator=LogisticRegression(), n_jobs=-1)"
      ]
     },
     "execution_count": 39,
     "metadata": {},
     "output_type": "execute_result"
    }
   ],
   "source": [
    "from sklearn.ensemble import StackingClassifier\n",
    "clf = StackingClassifier(estimators=estimators, final_estimator=LogisticRegression(), n_jobs = -1)\n",
    "clf.fit(X_train, y_train)"
   ]
  },
  {
   "cell_type": "code",
   "execution_count": 40,
   "id": "2bde0e55",
   "metadata": {
    "colab": {
     "base_uri": "https://localhost:8080/"
    },
    "id": "2bde0e55",
    "outputId": "5cfc7633-a33a-496a-ee1f-1fb2c4438ede"
   },
   "outputs": [
    {
     "data": {
      "text/plain": [
       "0.9187114996887455"
      ]
     },
     "execution_count": 40,
     "metadata": {},
     "output_type": "execute_result"
    }
   ],
   "source": [
    "clf.score(X_test, y_test)"
   ]
  },
  {
   "cell_type": "code",
   "execution_count": 21,
   "id": "XvXPhwRKZ25B",
   "metadata": {
    "id": "XvXPhwRKZ25B"
   },
   "outputs": [],
   "source": [
    "prob = clf.predict_proba(new_test)[:,1]\n",
    "sample_submission = pd.read_csv('sample_submission.csv')\n",
    "sample_submission['TARGET']= prob\n",
    "sample_submission.to_csv('stacking.csv', index = False)"
   ]
  },
  {
   "cell_type": "code",
   "execution_count": 41,
   "id": "EIvh6DnSdN-d",
   "metadata": {
    "id": "EIvh6DnSdN-d"
   },
   "outputs": [],
   "source": [
    "from sklearn.linear_model import LogisticRegressionCV\n",
    "estimators = [\n",
    "     ('gradboosting1', xgb.XGBClassifier(n_estimators = 10, booster = 'gblinear', reg_lambda = 0, objective = 'binary:logistic', eval_metric = 'aucpr')),\n",
    "     ('gradboosting2', xgb.XGBClassifier(n_estimators = 40, max_depth = 5, eta = 0.3, eval_metric = 'aucpr', reg_lambda = 1.5, objective = 'binary:logistic')),\n",
    "     ('rf1', xgb.XGBClassifier(n_estimators = 15, colsample_bynode = 0.8, learning_rate = 1, max_depth = 5, \n",
    "                               num_parallel_tree = 60, objective = 'binary:logistic', subsample = 0.8, eval_metric = 'aucpr', tree_method = 'gpu_hist')),\n",
    "     ('rf2', xgb.XGBClassifier(n_estimators = 30, colsample_bynode = 0.7, learning_rate = 1, max_depth = 3, reg_lambda = 0.7, \n",
    "                               num_parallel_tree = 60, objective = 'binary:logistic', subsample = 0.8, eval_metric = 'aucpr', tree_method = 'gpu_hist')),\n",
    "     ('logreg', make_pipeline(StandardScaler(),\n",
    "                          LogisticRegressionCV(class_weight = 'balanced', scoring = 'roc_auc', solver='sag', tol=1e-4, max_iter=5000, random_state=0)\n",
    "                             )\n",
    "     )\n",
    "]"
   ]
  },
  {
   "cell_type": "code",
   "execution_count": 42,
   "id": "DgddW5IPdaZ5",
   "metadata": {
    "colab": {
     "base_uri": "https://localhost:8080/"
    },
    "id": "DgddW5IPdaZ5",
    "outputId": "daa324de-3fb5-4dd2-e89f-56b0c6e57375"
   },
   "outputs": [
    {
     "data": {
      "text/plain": [
       "StackingClassifier(estimators=[('gradboosting1',\n",
       "                                XGBClassifier(booster='gblinear',\n",
       "                                              eval_metric='aucpr',\n",
       "                                              n_estimators=10, reg_lambda=0)),\n",
       "                               ('gradboosting2',\n",
       "                                XGBClassifier(eta=0.3, eval_metric='aucpr',\n",
       "                                              max_depth=5, n_estimators=40,\n",
       "                                              reg_lambda=1.5)),\n",
       "                               ('rf1',\n",
       "                                XGBClassifier(colsample_bynode=0.8,\n",
       "                                              eval_metric='aucpr',\n",
       "                                              learning_rate=1, max_depth=5,\n",
       "                                              n_estimators=15,\n",
       "                                              num_para...\n",
       "                                              learning_rate=1, n_estimators=30,\n",
       "                                              num_parallel_tree=60,\n",
       "                                              reg_lambda=0.7, subsample=0.8,\n",
       "                                              tree_method='gpu_hist')),\n",
       "                               ('logreg',\n",
       "                                Pipeline(steps=[('standardscaler',\n",
       "                                                 StandardScaler()),\n",
       "                                                ('logisticregressioncv',\n",
       "                                                 LogisticRegressionCV(class_weight='balanced',\n",
       "                                                                      max_iter=5000,\n",
       "                                                                      random_state=0,\n",
       "                                                                      scoring='roc_auc',\n",
       "                                                                      solver='sag'))]))],\n",
       "                   final_estimator=LogisticRegressionCV(scoring='roc_auc'),\n",
       "                   n_jobs=-1)"
      ]
     },
     "execution_count": 42,
     "metadata": {},
     "output_type": "execute_result"
    }
   ],
   "source": [
    "from sklearn.ensemble import StackingClassifier\n",
    "clf = StackingClassifier(estimators=estimators, final_estimator=LogisticRegressionCV(scoring = 'roc_auc'), n_jobs = -1)\n",
    "clf.fit(X_train, y_train)"
   ]
  },
  {
   "cell_type": "code",
   "execution_count": 43,
   "id": "xTQlWt18dqeR",
   "metadata": {
    "colab": {
     "base_uri": "https://localhost:8080/"
    },
    "id": "xTQlWt18dqeR",
    "outputId": "68a53c92-5c81-4a76-ad85-c25a05717654"
   },
   "outputs": [
    {
     "data": {
      "text/plain": [
       "0.9187765379219356"
      ]
     },
     "execution_count": 43,
     "metadata": {},
     "output_type": "execute_result"
    }
   ],
   "source": [
    "clf.score(X_test, y_test)"
   ]
  },
  {
   "cell_type": "code",
   "execution_count": 52,
   "id": "Bd19gfzy2M_0",
   "metadata": {
    "colab": {
     "base_uri": "https://localhost:8080/"
    },
    "id": "Bd19gfzy2M_0",
    "outputId": "bc2c3ebc-1112-4451-d11c-37dc9991351f"
   },
   "outputs": [
    {
     "name": "stdout",
     "output_type": "stream",
     "text": [
      "Requirement already satisfied: pip in /usr/local/lib/python3.7/dist-packages (21.1.3)\n",
      "Collecting install\n",
      "  Downloading install-1.3.4-py3-none-any.whl (3.1 kB)\n",
      "Collecting scikit-plot\n",
      "  Downloading scikit_plot-0.3.7-py3-none-any.whl (33 kB)\n",
      "Requirement already satisfied: joblib>=0.10 in /usr/local/lib/python3.7/dist-packages (from scikit-plot) (1.1.0)\n",
      "Requirement already satisfied: scikit-learn>=0.18 in /usr/local/lib/python3.7/dist-packages (from scikit-plot) (1.0.1)\n",
      "Requirement already satisfied: matplotlib>=1.4.0 in /usr/local/lib/python3.7/dist-packages (from scikit-plot) (3.2.2)\n",
      "Requirement already satisfied: scipy>=0.9 in /usr/local/lib/python3.7/dist-packages (from scikit-plot) (1.4.1)\n",
      "Requirement already satisfied: kiwisolver>=1.0.1 in /usr/local/lib/python3.7/dist-packages (from matplotlib>=1.4.0->scikit-plot) (1.3.2)\n",
      "Requirement already satisfied: cycler>=0.10 in /usr/local/lib/python3.7/dist-packages (from matplotlib>=1.4.0->scikit-plot) (0.11.0)\n",
      "Requirement already satisfied: pyparsing!=2.0.4,!=2.1.2,!=2.1.6,>=2.0.1 in /usr/local/lib/python3.7/dist-packages (from matplotlib>=1.4.0->scikit-plot) (3.0.6)\n",
      "Requirement already satisfied: python-dateutil>=2.1 in /usr/local/lib/python3.7/dist-packages (from matplotlib>=1.4.0->scikit-plot) (2.8.2)\n",
      "Requirement already satisfied: numpy>=1.11 in /usr/local/lib/python3.7/dist-packages (from matplotlib>=1.4.0->scikit-plot) (1.19.5)\n",
      "Requirement already satisfied: six>=1.5 in /usr/local/lib/python3.7/dist-packages (from python-dateutil>=2.1->matplotlib>=1.4.0->scikit-plot) (1.15.0)\n",
      "Requirement already satisfied: threadpoolctl>=2.0.0 in /usr/local/lib/python3.7/dist-packages (from scikit-learn>=0.18->scikit-plot) (3.0.0)\n",
      "Installing collected packages: scikit-plot, install\n",
      "Successfully installed install-1.3.4 scikit-plot-0.3.7\n"
     ]
    }
   ],
   "source": [
    "pip install pip install scikit-plot"
   ]
  },
  {
   "cell_type": "code",
   "execution_count": 53,
   "id": "5YiCe6iv17io",
   "metadata": {
    "colab": {
     "base_uri": "https://localhost:8080/",
     "height": 312
    },
    "id": "5YiCe6iv17io",
    "outputId": "d3164f9a-d95a-4eea-d664-f6533a5fbd74"
   },
   "outputs": [
    {
     "data": {
      "text/plain": [
       "<matplotlib.axes._subplots.AxesSubplot at 0x7fe440c17990>"
      ]
     },
     "execution_count": 53,
     "metadata": {},
     "output_type": "execute_result"
    },
    {
     "data": {
      "image/png": "[encoded data removed]",
      "text/plain": [
       "<Figure size 432x288 with 1 Axes>"
      ]
     },
     "metadata": {},
     "output_type": "display_data"
    }
   ],
   "source": [
    "import scikitplot\n",
    "scikitplot.metrics.plot_roc(y_test, clf.predict_proba(X_test))"
   ]
  },
  {
   "cell_type": "markdown",
   "id": "i4RvGvgsf6EV",
   "metadata": {
    "id": "i4RvGvgsf6EV"
   },
   "source": [
    "Тут мы получили существенный результат"
   ]
  },
  {
   "cell_type": "code",
   "execution_count": 27,
   "id": "da_8vPRpfrKP",
   "metadata": {
    "id": "da_8vPRpfrKP"
   },
   "outputs": [],
   "source": [
    "prob = clf.predict_proba(new_test)[:,1]\n",
    "sample_submission = pd.read_csv('sample_submission.csv')\n",
    "sample_submission['TARGET']= prob\n",
    "sample_submission.to_csv('stacking2.csv', index = False)"
   ]
  },
  {
   "cell_type": "code",
   "execution_count": 44,
   "id": "p_OVj4q1uO9P",
   "metadata": {
    "colab": {
     "base_uri": "https://localhost:8080/"
    },
    "id": "p_OVj4q1uO9P",
    "outputId": "cc17e8a5-9202-4ca0-fa66-537e5c69cff9"
   },
   "outputs": [
    {
     "name": "stdout",
     "output_type": "stream",
     "text": [
      "gradboosting1 score  0.919361882020645\n",
      "gradboosting2 score 0.9194176290776649\n",
      "rf 1 score 0.919315426139795\n",
      "rf 2 score 0.919324717315965\n",
      "logreg score 0.7016291268015744\n"
     ]
    }
   ],
   "source": [
    "print(\"gradboosting1 score \", clf.named_estimators_['gradboosting1'].score(X_test, y_test))\n",
    "print(\"gradboosting2 score\", clf.named_estimators_['gradboosting2'].score(X_test, y_test))\n",
    "print(\"rf 1 score\", clf.named_estimators_['rf1'].score(X_test, y_test))\n",
    "print(\"rf 2 score\", clf.named_estimators_['rf2'].score(X_test, y_test))\n",
    "print(\"logreg score\", clf.named_estimators_['logreg'].score(X_test, y_test))"
   ]
  },
  {
   "cell_type": "markdown",
   "id": "iQRIVTyagZQK",
   "metadata": {
    "id": "iQRIVTyagZQK"
   },
   "source": [
    "На лидер борде скор тоже возрос до 0.71105"
   ]
  },
  {
   "cell_type": "markdown",
   "id": "ixZ4VLEZn4vp",
   "metadata": {
    "id": "ixZ4VLEZn4vp"
   },
   "source": [
    "теперь выкинем gradboosting2 и посмотрим, как изменится результат."
   ]
  },
  {
   "cell_type": "code",
   "execution_count": 45,
   "id": "PZVxI2zFoGwP",
   "metadata": {
    "id": "PZVxI2zFoGwP"
   },
   "outputs": [],
   "source": [
    "estimators2 = [\n",
    "     ('gradboosting1', xgb.XGBClassifier(n_estimators = 10, booster = 'gblinear', reg_lambda = 0, objective = 'binary:logistic', eval_metric = 'aucpr')),\n",
    "     ('rf1', xgb.XGBClassifier(n_estimators = 15, colsample_bynode = 0.8, learning_rate = 1, max_depth = 5, \n",
    "                               num_parallel_tree = 60, objective = 'binary:logistic', subsample = 0.8, eval_metric = 'aucpr', tree_method = 'gpu_hist')),\n",
    "     ('rf2', xgb.XGBClassifier(n_estimators = 30, colsample_bynode = 0.7, learning_rate = 1, max_depth = 3, reg_lambda = 0.7, \n",
    "                               num_parallel_tree = 60, objective = 'binary:logistic', subsample = 0.8, eval_metric = 'aucpr', tree_method = 'gpu_hist')),\n",
    "     ('logreg', make_pipeline(StandardScaler(),\n",
    "                          LogisticRegressionCV(class_weight = 'balanced', scoring = 'roc_auc', solver='sag', tol=1e-4, max_iter=5000, random_state=0)\n",
    "                             )\n",
    "     )\n",
    "]"
   ]
  },
  {
   "cell_type": "code",
   "execution_count": 46,
   "id": "GgCxGnDOtcqV",
   "metadata": {
    "colab": {
     "base_uri": "https://localhost:8080/"
    },
    "id": "GgCxGnDOtcqV",
    "outputId": "cfc853fe-83bb-4c2a-fd58-eb48a8554b65"
   },
   "outputs": [
    {
     "data": {
      "text/plain": [
       "StackingClassifier(estimators=[('gradboosting1',\n",
       "                                XGBClassifier(booster='gblinear',\n",
       "                                              eval_metric='aucpr',\n",
       "                                              n_estimators=10, reg_lambda=0)),\n",
       "                               ('rf1',\n",
       "                                XGBClassifier(colsample_bynode=0.8,\n",
       "                                              eval_metric='aucpr',\n",
       "                                              learning_rate=1, max_depth=5,\n",
       "                                              n_estimators=15,\n",
       "                                              num_parallel_tree=60,\n",
       "                                              subsample=0.8,\n",
       "                                              tree_method='gpu_hist')),\n",
       "                               ('rf2',\n",
       "                                XGBClassifier(colsample_bynode=0.7,\n",
       "                                              eval_metri...\n",
       "                                              learning_rate=1, n_estimators=30,\n",
       "                                              num_parallel_tree=60,\n",
       "                                              reg_lambda=0.7, subsample=0.8,\n",
       "                                              tree_method='gpu_hist')),\n",
       "                               ('logreg',\n",
       "                                Pipeline(steps=[('standardscaler',\n",
       "                                                 StandardScaler()),\n",
       "                                                ('logisticregressioncv',\n",
       "                                                 LogisticRegressionCV(class_weight='balanced',\n",
       "                                                                      max_iter=5000,\n",
       "                                                                      random_state=0,\n",
       "                                                                      scoring='roc_auc',\n",
       "                                                                      solver='sag'))]))],\n",
       "                   final_estimator=LogisticRegressionCV(scoring='roc_auc'),\n",
       "                   n_jobs=-1)"
      ]
     },
     "execution_count": 46,
     "metadata": {},
     "output_type": "execute_result"
    }
   ],
   "source": [
    "clf2 = StackingClassifier(estimators=estimators2, final_estimator=LogisticRegressionCV(scoring = 'roc_auc'), n_jobs = -1)\n",
    "clf2.fit(X_train, y_train)"
   ]
  },
  {
   "cell_type": "code",
   "execution_count": 47,
   "id": "yi-K-D5AzGlk",
   "metadata": {
    "colab": {
     "base_uri": "https://localhost:8080/"
    },
    "id": "yi-K-D5AzGlk",
    "outputId": "15777e39-10a2-4b7d-fd31-ebfac7a6915f"
   },
   "outputs": [
    {
     "data": {
      "text/plain": [
       "0.9186836261602356"
      ]
     },
     "execution_count": 47,
     "metadata": {},
     "output_type": "execute_result"
    }
   ],
   "source": [
    "clf2.score(X_test, y_test)"
   ]
  },
  {
   "cell_type": "code",
   "execution_count": 54,
   "id": "wyE8-pLc2wuG",
   "metadata": {
    "colab": {
     "base_uri": "https://localhost:8080/",
     "height": 312
    },
    "id": "wyE8-pLc2wuG",
    "outputId": "7135146c-f907-49f0-a94a-ab238605d682"
   },
   "outputs": [
    {
     "data": {
      "text/plain": [
       "<matplotlib.axes._subplots.AxesSubplot at 0x7fe3dcff8a90>"
      ]
     },
     "execution_count": 54,
     "metadata": {},
     "output_type": "execute_result"
    },
    {
     "data": {
      "image/png": "[encoded data removed]",
      "text/plain": [
       "<Figure size 432x288 with 1 Axes>"
      ]
     },
     "metadata": {},
     "output_type": "display_data"
    }
   ],
   "source": [
    "scikitplot.metrics.plot_roc(y_test, clf2.predict_proba(X_test))"
   ]
  },
  {
   "cell_type": "code",
   "execution_count": 48,
   "id": "AfIUY4Tg0XS9",
   "metadata": {
    "id": "AfIUY4Tg0XS9"
   },
   "outputs": [],
   "source": [
    "prob = clf.predict_proba(new_test)[:,1]\n",
    "sample_submission = pd.read_csv('sample_submission.csv')\n",
    "sample_submission['TARGET']= prob\n",
    "sample_submission.to_csv('stacking3.csv', index = False)"
   ]
  },
  {
   "cell_type": "markdown",
   "id": "mcbk7bar0pze",
   "metadata": {
    "id": "mcbk7bar0pze"
   },
   "source": [
    "Скор на лидерборде у нас повысился и стал 0.71116, при том, что на валидации он повысился, значит мы чуть меньше переобучились."
   ]
  },
  {
   "cell_type": "markdown",
   "id": "xZskWAm11AtN",
   "metadata": {
    "id": "xZskWAm11AtN"
   },
   "source": [
    "В целом стекинг помог нам еще сильнее улучшить результат по сравнению со бустингом, однако наша модель стала сильнее переобучаться"
   ]
  }
 ],
 "metadata": {
  "accelerator": "GPU",
  "colab": {
   "name": "Stacking.ipynb",
   "provenance": [],
   "toc_visible": true
  },
  "kernelspec": {
   "display_name": "Python 3",
   "language": "python",
   "name": "python3"
  },
  "language_info": {
   "codemirror_mode": {
    "name": "ipython",
    "version": 3
   },
   "file_extension": ".py",
   "mimetype": "text/x-python",
   "name": "python",
   "nbconvert_exporter": "python",
   "pygments_lexer": "ipython3",
   "version": "3.8.5"
  }
 },
 "nbformat": 4,
 "nbformat_minor": 5
}
