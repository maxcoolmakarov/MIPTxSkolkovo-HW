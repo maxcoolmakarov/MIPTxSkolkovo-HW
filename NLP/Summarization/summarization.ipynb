{
 "cells": [
  {
   "cell_type": "markdown",
   "id": "ab26ef9d",
   "metadata": {
    "id": "9DeZCwkk-PCZ",
    "papermill": {
     "duration": 0.009968,
     "end_time": "2021-11-21T23:37:56.555943",
     "exception": false,
     "start_time": "2021-11-21T23:37:56.545975",
     "status": "completed"
    },
    "tags": []
   },
   "source": [
    "## Imports\n"
   ]
  },
  {
   "cell_type": "code",
   "execution_count": 2,
   "id": "769b7777",
   "metadata": {
    "execution": {
     "iopub.execute_input": "2021-11-21T23:37:56.588732Z",
     "iopub.status.busy": "2021-11-21T23:37:56.588117Z",
     "iopub.status.idle": "2021-11-21T23:38:05.959693Z",
     "shell.execute_reply": "2021-11-21T23:38:05.958604Z",
     "shell.execute_reply.started": "2021-11-21T23:12:45.451859Z"
    },
    "id": "8JHRTKUh7oBH",
    "papermill": {
     "duration": 9.393991,
     "end_time": "2021-11-21T23:38:05.959876",
     "exception": false,
     "start_time": "2021-11-21T23:37:56.565885",
     "status": "completed"
    },
    "tags": []
   },
   "outputs": [],
   "source": [
    "import os\n",
    "import pandas as pd\n",
    "import numpy as np\n",
    "import spacy\n",
    "import time\n",
    "\n",
    "from spacy.lang.en.stop_words import STOP_WORDS\n",
    "from string import punctuation"
   ]
  },
  {
   "cell_type": "code",
   "execution_count": 3,
   "id": "81588d7a",
   "metadata": {
    "execution": {
     "iopub.execute_input": "2021-11-21T23:38:05.999946Z",
     "iopub.status.busy": "2021-11-21T23:38:05.998950Z",
     "iopub.status.idle": "2021-11-21T23:38:17.908908Z",
     "shell.execute_reply": "2021-11-21T23:38:17.909699Z",
     "shell.execute_reply.started": "2021-11-21T23:12:55.507912Z"
    },
    "id": "SElktm5ACIib",
    "papermill": {
     "duration": 11.922374,
     "end_time": "2021-11-21T23:38:17.909889",
     "exception": false,
     "start_time": "2021-11-21T23:38:05.987515",
     "status": "completed"
    },
    "tags": []
   },
   "outputs": [],
   "source": [
    "classes = os.listdir('BBC News Summary/News Articles')\n",
    "articles_d = 'BBC News Summary/News Articles/'\n",
    "summaries_d = 'BBC News Summary/Summaries/'\n",
    "\n",
    "articles = []\n",
    "summaries = []\n",
    "file_arr = []\n",
    "for cla in classes:\n",
    "    files = os.listdir(articles_d + cla)\n",
    "    for file in files:\n",
    "        article_file_path = articles_d + cla + '/' + file\n",
    "        summary_file_path = summaries_d + cla + '/' + file\n",
    "        try:\n",
    "            with open (article_file_path,'r') as f:\n",
    "                articles.append('.'.join([line.rstrip() for line in f.readlines()]))\n",
    "            with open (summary_file_path,'r') as f:\n",
    "                summaries.append('.'.join([line.rstrip() for line in f.readlines()]))\n",
    "            file_arr.append(cla + '/' + file)\n",
    "        except:\n",
    "            pass\n",
    "            \n",
    "df = pd.DataFrame({'File_path':file_arr,'Articles': articles,'Summaries':summaries})"
   ]
  },
  {
   "cell_type": "code",
   "execution_count": 4,
   "id": "f97a31a1",
   "metadata": {
    "execution": {
     "iopub.execute_input": "2021-11-21T23:38:17.948196Z",
     "iopub.status.busy": "2021-11-21T23:38:17.947563Z",
     "iopub.status.idle": "2021-11-21T23:38:32.041570Z",
     "shell.execute_reply": "2021-11-21T23:38:32.040916Z",
     "shell.execute_reply.started": "2021-11-21T23:13:08.451369Z"
    },
    "id": "4KgztUytNBXS",
    "papermill": {
     "duration": 14.105117,
     "end_time": "2021-11-21T23:38:32.041745",
     "exception": false,
     "start_time": "2021-11-21T23:38:17.936628",
     "status": "completed"
    },
    "tags": []
   },
   "outputs": [],
   "source": [
    "import sumy\n",
    "from sumy.parsers.html import HtmlParser\n",
    "from sumy.parsers.plaintext import PlaintextParser\n",
    "from sumy.nlp.tokenizers import Tokenizer\n",
    "from sumy.summarizers.lsa import LsaSummarizer \n",
    "from sumy.summarizers.lex_rank import LexRankSummarizer\n",
    "from sumy.nlp.stemmers import Stemmer\n",
    "from sumy.utils import get_stop_words\n",
    "\n",
    "def summ(text):\n",
    "    SENTENCES_COUNT = 3\n",
    "    language = 'english'\n",
    "\n",
    "    summary_full = []\n",
    "    \n",
    "    parser = PlaintextParser.from_string(text, Tokenizer(language))\n",
    "    stemmer = Stemmer(language)\n",
    "    \n",
    "    summarizer = LexRankSummarizer(stemmer)\n",
    "    \n",
    "    summarizer.stop_words = get_stop_words(language)\n",
    "    \n",
    "    summary = []  \n",
    "    for sentence in summarizer(parser.document, SENTENCES_COUNT):\n",
    "        summary.append(str(sentence))\n",
    "\n",
    "    summary = ' '.join(summary)\n",
    "    summary_full.append(summary)\n",
    "        \n",
    "    return \" \".join(summary_full)"
   ]
  },
  {
   "cell_type": "markdown",
   "id": "05dba5fe",
   "metadata": {
    "id": "40AIt05_NCZ8",
    "papermill": {
     "duration": 0.013009,
     "end_time": "2021-11-21T23:38:32.068885",
     "exception": false,
     "start_time": "2021-11-21T23:38:32.055876",
     "status": "completed"
    },
    "tags": []
   },
   "source": [
    "## Result"
   ]
  },
  {
   "cell_type": "code",
   "execution_count": 5,
   "id": "14b53204",
   "metadata": {
    "execution": {
     "iopub.execute_input": "2021-11-21T23:38:32.112646Z",
     "iopub.status.busy": "2021-11-21T23:38:32.111460Z",
     "iopub.status.idle": "2021-11-21T23:38:41.200594Z",
     "shell.execute_reply": "2021-11-21T23:38:41.201065Z",
     "shell.execute_reply.started": "2021-11-21T23:13:22.572603Z"
    },
    "papermill": {
     "duration": 9.119096,
     "end_time": "2021-11-21T23:38:41.201247",
     "exception": false,
     "start_time": "2021-11-21T23:38:32.082151",
     "status": "completed"
    },
    "tags": []
   },
   "outputs": [
    {
     "name": "stderr",
     "output_type": "stream",
     "text": [
      "[nltk_data] Downloading package punkt to /home/maxim/nltk_data...\n",
      "[nltk_data]   Package punkt is already up-to-date!\n"
     ]
    },
    {
     "data": {
      "text/plain": [
       "True"
      ]
     },
     "execution_count": 5,
     "metadata": {},
     "output_type": "execute_result"
    }
   ],
   "source": [
    "from rouge import Rouge\n",
    "import nltk\n",
    "nltk.download('punkt')"
   ]
  },
  {
   "cell_type": "code",
   "execution_count": 6,
   "id": "300935d1",
   "metadata": {
    "execution": {
     "iopub.execute_input": "2021-11-21T23:38:41.244169Z",
     "iopub.status.busy": "2021-11-21T23:38:41.239318Z",
     "iopub.status.idle": "2021-11-21T23:40:05.858766Z",
     "shell.execute_reply": "2021-11-21T23:40:05.859276Z",
     "shell.execute_reply.started": "2021-11-21T23:13:31.932984Z"
    },
    "id": "LY5mDCngNG7L",
    "papermill": {
     "duration": 84.643739,
     "end_time": "2021-11-21T23:40:05.859470",
     "exception": false,
     "start_time": "2021-11-21T23:38:41.215731",
     "status": "completed"
    },
    "tags": []
   },
   "outputs": [
    {
     "data": {
      "text/html": [
       "<div>\n",
       "<style scoped>\n",
       "    .dataframe tbody tr th:only-of-type {\n",
       "        vertical-align: middle;\n",
       "    }\n",
       "\n",
       "    .dataframe tbody tr th {\n",
       "        vertical-align: top;\n",
       "    }\n",
       "\n",
       "    .dataframe thead th {\n",
       "        text-align: right;\n",
       "    }\n",
       "</style>\n",
       "<table border=\"1\" class=\"dataframe\">\n",
       "  <thead>\n",
       "    <tr style=\"text-align: right;\">\n",
       "      <th></th>\n",
       "      <th>rouge-1</th>\n",
       "      <th>rouge-2</th>\n",
       "      <th>rouge-l</th>\n",
       "    </tr>\n",
       "  </thead>\n",
       "  <tbody>\n",
       "    <tr>\n",
       "      <th>0</th>\n",
       "      <td>{'r': 0.6101694915254238, 'p': 0.6666666666666...</td>\n",
       "      <td>{'r': 0.5, 'p': 0.5671641791044776, 'f': 0.531...</td>\n",
       "      <td>{'r': 0.6101694915254238, 'p': 0.6666666666666...</td>\n",
       "    </tr>\n",
       "    <tr>\n",
       "      <th>1</th>\n",
       "      <td>{'r': 0.5945945945945946, 'p': 0.7719298245614...</td>\n",
       "      <td>{'r': 0.5212765957446809, 'p': 0.6805555555555...</td>\n",
       "      <td>{'r': 0.581081081081081, 'p': 0.75438596491228...</td>\n",
       "    </tr>\n",
       "    <tr>\n",
       "      <th>2</th>\n",
       "      <td>{'r': 0.8412698412698413, 'p': 0.5408163265306...</td>\n",
       "      <td>{'r': 0.6987951807228916, 'p': 0.453125, 'f': ...</td>\n",
       "      <td>{'r': 0.8412698412698413, 'p': 0.5408163265306...</td>\n",
       "    </tr>\n",
       "    <tr>\n",
       "      <th>3</th>\n",
       "      <td>{'r': 0.7540983606557377, 'p': 0.575, 'f': 0.6...</td>\n",
       "      <td>{'r': 0.6575342465753424, 'p': 0.4485981308411...</td>\n",
       "      <td>{'r': 0.7540983606557377, 'p': 0.575, 'f': 0.6...</td>\n",
       "    </tr>\n",
       "    <tr>\n",
       "      <th>4</th>\n",
       "      <td>{'r': 0.7391304347826086, 'p': 0.4857142857142...</td>\n",
       "      <td>{'r': 0.5842696629213483, 'p': 0.3823529411764...</td>\n",
       "      <td>{'r': 0.7391304347826086, 'p': 0.4857142857142...</td>\n",
       "    </tr>\n",
       "  </tbody>\n",
       "</table>\n",
       "</div>"
      ],
      "text/plain": [
       "                                             rouge-1  \\\n",
       "0  {'r': 0.6101694915254238, 'p': 0.6666666666666...   \n",
       "1  {'r': 0.5945945945945946, 'p': 0.7719298245614...   \n",
       "2  {'r': 0.8412698412698413, 'p': 0.5408163265306...   \n",
       "3  {'r': 0.7540983606557377, 'p': 0.575, 'f': 0.6...   \n",
       "4  {'r': 0.7391304347826086, 'p': 0.4857142857142...   \n",
       "\n",
       "                                             rouge-2  \\\n",
       "0  {'r': 0.5, 'p': 0.5671641791044776, 'f': 0.531...   \n",
       "1  {'r': 0.5212765957446809, 'p': 0.6805555555555...   \n",
       "2  {'r': 0.6987951807228916, 'p': 0.453125, 'f': ...   \n",
       "3  {'r': 0.6575342465753424, 'p': 0.4485981308411...   \n",
       "4  {'r': 0.5842696629213483, 'p': 0.3823529411764...   \n",
       "\n",
       "                                             rouge-l  \n",
       "0  {'r': 0.6101694915254238, 'p': 0.6666666666666...  \n",
       "1  {'r': 0.581081081081081, 'p': 0.75438596491228...  \n",
       "2  {'r': 0.8412698412698413, 'p': 0.5408163265306...  \n",
       "3  {'r': 0.7540983606557377, 'p': 0.575, 'f': 0.6...  \n",
       "4  {'r': 0.7391304347826086, 'p': 0.4857142857142...  "
      ]
     },
     "execution_count": 6,
     "metadata": {},
     "output_type": "execute_result"
    }
   ],
   "source": [
    "df[\"Sumy\"] = df[\"Articles\"].apply(summ)\n",
    "\n",
    "rouge = Rouge()\n",
    "scores = rouge.get_scores(df[\"Summaries\"], df[\"Sumy\"])\n",
    "df_result = pd.DataFrame(scores)\n",
    "df_result.head()"
   ]
  },
  {
   "cell_type": "markdown",
   "id": "92f2fd31",
   "metadata": {
    "id": "riS-1FqWNHh7",
    "papermill": {
     "duration": 0.014859,
     "end_time": "2021-11-21T23:40:05.889477",
     "exception": false,
     "start_time": "2021-11-21T23:40:05.874618",
     "status": "completed"
    },
    "tags": []
   },
   "source": [
    "Score"
   ]
  },
  {
   "cell_type": "code",
   "execution_count": 7,
   "id": "a101738e",
   "metadata": {
    "execution": {
     "iopub.execute_input": "2021-11-21T23:40:05.974719Z",
     "iopub.status.busy": "2021-11-21T23:40:05.948708Z",
     "iopub.status.idle": "2021-11-21T23:40:51.173536Z",
     "shell.execute_reply": "2021-11-21T23:40:51.174055Z",
     "shell.execute_reply.started": "2021-11-21T23:14:56.782058Z"
    },
    "id": "aV7vTiH4NIOr",
    "papermill": {
     "duration": 45.269488,
     "end_time": "2021-11-21T23:40:51.174237",
     "exception": false,
     "start_time": "2021-11-21T23:40:05.904749",
     "status": "completed"
    },
    "tags": []
   },
   "outputs": [
    {
     "data": {
      "text/plain": [
       "{'rouge-1': {'r': 0.7162083823333302,\n",
       "  'p': 0.49866631251393956,\n",
       "  'f': 0.5666393362816899},\n",
       " 'rouge-2': {'r': 0.6082675016633666,\n",
       "  'p': 0.39049477115324116,\n",
       "  'f': 0.4527170881098828},\n",
       " 'rouge-l': {'r': 0.7059239769653619,\n",
       "  'p': 0.4916010176505664,\n",
       "  'f': 0.5585581807770834}}"
      ]
     },
     "execution_count": 7,
     "metadata": {},
     "output_type": "execute_result"
    }
   ],
   "source": [
    "hyps, refs = map(list, [df[\"Summaries\"], df[\"Sumy\"]])\n",
    "rouge = Rouge()\n",
    "\n",
    "scores = rouge.get_scores(hyps, refs, avg=True)\n",
    "scores"
   ]
  },
  {
   "cell_type": "code",
   "execution_count": 10,
   "id": "e243771c",
   "metadata": {},
   "outputs": [
    {
     "data": {
      "text/html": [
       "<div>\n",
       "<style scoped>\n",
       "    .dataframe tbody tr th:only-of-type {\n",
       "        vertical-align: middle;\n",
       "    }\n",
       "\n",
       "    .dataframe tbody tr th {\n",
       "        vertical-align: top;\n",
       "    }\n",
       "\n",
       "    .dataframe thead th {\n",
       "        text-align: right;\n",
       "    }\n",
       "</style>\n",
       "<table border=\"1\" class=\"dataframe\">\n",
       "  <thead>\n",
       "    <tr style=\"text-align: right;\">\n",
       "      <th></th>\n",
       "      <th>Sumy</th>\n",
       "      <th>Summaries</th>\n",
       "    </tr>\n",
       "  </thead>\n",
       "  <tbody>\n",
       "    <tr>\n",
       "      <th>0</th>\n",
       "      <td>Blue beat U2 to top France honour..Irish band U2 have been honoured at France's biggest music awards, but were beaten to a prize by boy band Blue...U2 received a special achievement prize at the NRJ Music Awards, but Blue beat them to the international group award. US band Maroon 5 was named best new international artist, and took the best international song title for This Love. More than five million radio listeners voted in the awards.</td>\n",
       "      <td>US band Maroon 5 was named best new international artist, and took the best international song title for This Love.U2 received a special achievement prize at the NRJ Music Awards, but Blue beat them to the international group award.Singer Jenifer also took home two awards, for best French female singer and best French album.US pop act Black Eyed Peas picked up the best international album gong for Elephunk.</td>\n",
       "    </tr>\n",
       "    <tr>\n",
       "      <th>1</th>\n",
       "      <td>Ethnic producers 'face barriers'..Minority ethnic led (Mel) production companies face barriers in succeeding in the film and television industries, research has suggested...The study, commissioned by Pact and the UK Film Council, included interviews with industry experts and individuals. The research indicated that about 10% of independent production companies in the UK are minority ethnic led...A minority ethnic led company is defined as one in which the majority of decision-making power rests with an individual or individuals from a minority ethnic group. The report also explored the problems faced by such companies when attempting to compete within the film and TV industries.</td>\n",
       "      <td>Minority ethnic led (Mel) production companies face barriers in succeeding in the film and television industries, research has suggested.The research indicated that about 10% of independent production companies in the UK are minority ethnic led.The research recommended that minority ethnic led companies could benefit from such positive actions as career training and business advice, plus improved communication within the film and TV sectors.The report also explored the problems faced by such companies when attempting to compete within the film and TV industries.</td>\n",
       "    </tr>\n",
       "    <tr>\n",
       "      <th>2</th>\n",
       "      <td>Baghdad Blogger on big screen..A film based on the internet musings of the \"Baghdad Blogger\" has been shown at the Rotterdam Film Festival...The film has been directed by the man who calls himself Salam Pax, the author of the weblog about Iraqi life during and after the war. The movie version comes in the form of a series of shorts made by Pax on a hand-held camera. Baghdad Blogger is among a number of films about Iraq showcased at the Dutch festival, which runs until Sunday.</td>\n",
       "      <td>A film based on the internet musings of the \"Baghdad Blogger\" has been shown at the Rotterdam Film Festival.Baghdad Blogger is among a number of films about Iraq showcased at the Dutch festival, which runs until Sunday.The festival was also due to screen murdered Dutch film-maker Theo Van Gogh's film about the treatment of woman under Islam, but it was withdrawn due to safety fears.The film has been directed by the man who calls himself Salam Pax, the author of the weblog about Iraqi life during and after the war.Director Oday Rasheed made the film on discarded 1980s Kodak film taken from the remains for the former Ministry of Culture building.Van Gogh was shot and stabbed in November 2004, following death threats he received about his film Submission.</td>\n",
       "    </tr>\n",
       "    <tr>\n",
       "      <th>3</th>\n",
       "      <td>But fans around the world have pitched in to pay for the advert, which had the headline \"Save Star Trek\". They are also asking the Sci-Fi Channel to pick it up from UPN and will stage a rally in Los Angeles on 25 February...The advert described the Star Trek franchise as a \"cultural icon\". Star Trek: Enterprise began in 2001 following other Star Trek spin-off series The Next Generation, Deep Space Nine and Voyager.</td>\n",
       "      <td>Star Trek: Enterprise began in 2001 following other Star Trek spin-off series The Next Generation, Deep Space Nine and Voyager.Star Trek fans have taken out a full-page ad in the Los Angeles Times in an attempt to persuade TV executives not to scrap Star Trek: Enterprise.Enterprise stars former Quantum Leap actor Scott Bakula as Captain Archer and is set before the original 1960s Star Trek series.But fans around the world have pitched in to pay for the advert, which had the headline \"Save Star Trek\".The advert described the Star Trek franchise as a \"cultural icon\".The 98th and final episode of Star Trek: Enterprise will air in the US on 13 May.</td>\n",
       "    </tr>\n",
       "    <tr>\n",
       "      <th>4</th>\n",
       "      <td>DVD review: I, Robot..Only one man recognises that robots are a threat to humanity - but that's fine because it only takes one man to save the day in the thriller I, Robot...Will Smith co-stars alongside more CGI robots than you can count and as a thrill-a-minute kind of action film, it's perfectly adequate. You'll have forgotten it all tomorrow but you'll have a fun night with the film and all the extras. There is a one-disc version that has commentaries and a Making Of but the two-disc adds more.</td>\n",
       "      <td>Will Smith co-stars alongside more CGI robots than you can count and as a thrill-a-minute kind of action film, it's perfectly adequate.Unusually for this kind of film, the extras don't solely concentrate on the special effects.But as long as you're not expecting a documentary, live with it: King Arthur is a fun, exciting, totally shallow experience and looks excellent.Only one man recognises that robots are a threat to humanity - but that's fine because it only takes one man to save the day in the thriller I, Robot.Admit it, the fact that this is one of the shows Alan Titchmarsh left Ground Force to present did mean that you expected something equally frothy.It's at its best in its battle scenes which are well done and are also the best part of the Making Of extra.</td>\n",
       "    </tr>\n",
       "  </tbody>\n",
       "</table>\n",
       "</div>"
      ],
      "text/plain": [
       "                                                                                                                                                                                                                                                                                                                                                                                                                                                                                                                                                                                                                                                                                                              Sumy  \\\n",
       "0                                                                                                                                                                                                                                                        Blue beat U2 to top France honour..Irish band U2 have been honoured at France's biggest music awards, but were beaten to a prize by boy band Blue...U2 received a special achievement prize at the NRJ Music Awards, but Blue beat them to the international group award. US band Maroon 5 was named best new international artist, and took the best international song title for This Love. More than five million radio listeners voted in the awards.   \n",
       "1  Ethnic producers 'face barriers'..Minority ethnic led (Mel) production companies face barriers in succeeding in the film and television industries, research has suggested...The study, commissioned by Pact and the UK Film Council, included interviews with industry experts and individuals. The research indicated that about 10% of independent production companies in the UK are minority ethnic led...A minority ethnic led company is defined as one in which the majority of decision-making power rests with an individual or individuals from a minority ethnic group. The report also explored the problems faced by such companies when attempting to compete within the film and TV industries.   \n",
       "2                                                                                                                                                                                                                 Baghdad Blogger on big screen..A film based on the internet musings of the \"Baghdad Blogger\" has been shown at the Rotterdam Film Festival...The film has been directed by the man who calls himself Salam Pax, the author of the weblog about Iraqi life during and after the war. The movie version comes in the form of a series of shorts made by Pax on a hand-held camera. Baghdad Blogger is among a number of films about Iraq showcased at the Dutch festival, which runs until Sunday.   \n",
       "3                                                                                                                                                                                                                                                                               But fans around the world have pitched in to pay for the advert, which had the headline \"Save Star Trek\". They are also asking the Sci-Fi Channel to pick it up from UPN and will stage a rally in Los Angeles on 25 February...The advert described the Star Trek franchise as a \"cultural icon\". Star Trek: Enterprise began in 2001 following other Star Trek spin-off series The Next Generation, Deep Space Nine and Voyager.   \n",
       "4                                                                                                                                                                                          DVD review: I, Robot..Only one man recognises that robots are a threat to humanity - but that's fine because it only takes one man to save the day in the thriller I, Robot...Will Smith co-stars alongside more CGI robots than you can count and as a thrill-a-minute kind of action film, it's perfectly adequate. You'll have forgotten it all tomorrow but you'll have a fun night with the film and all the extras. There is a one-disc version that has commentaries and a Making Of but the two-disc adds more.   \n",
       "\n",
       "                                                                                                                                                                                                                                                                                                                                                                                                                                                                                                                                                                                                                                                                                                                                                                                                 Summaries  \n",
       "0                                                                                                                                                                                                                                                                                                                                                                               US band Maroon 5 was named best new international artist, and took the best international song title for This Love.U2 received a special achievement prize at the NRJ Music Awards, but Blue beat them to the international group award.Singer Jenifer also took home two awards, for best French female singer and best French album.US pop act Black Eyed Peas picked up the best international album gong for Elephunk.  \n",
       "1                                                                                                                                                                                                                 Minority ethnic led (Mel) production companies face barriers in succeeding in the film and television industries, research has suggested.The research indicated that about 10% of independent production companies in the UK are minority ethnic led.The research recommended that minority ethnic led companies could benefit from such positive actions as career training and business advice, plus improved communication within the film and TV sectors.The report also explored the problems faced by such companies when attempting to compete within the film and TV industries.  \n",
       "2               A film based on the internet musings of the \"Baghdad Blogger\" has been shown at the Rotterdam Film Festival.Baghdad Blogger is among a number of films about Iraq showcased at the Dutch festival, which runs until Sunday.The festival was also due to screen murdered Dutch film-maker Theo Van Gogh's film about the treatment of woman under Islam, but it was withdrawn due to safety fears.The film has been directed by the man who calls himself Salam Pax, the author of the weblog about Iraqi life during and after the war.Director Oday Rasheed made the film on discarded 1980s Kodak film taken from the remains for the former Ministry of Culture building.Van Gogh was shot and stabbed in November 2004, following death threats he received about his film Submission.  \n",
       "3                                                                                                                             Star Trek: Enterprise began in 2001 following other Star Trek spin-off series The Next Generation, Deep Space Nine and Voyager.Star Trek fans have taken out a full-page ad in the Los Angeles Times in an attempt to persuade TV executives not to scrap Star Trek: Enterprise.Enterprise stars former Quantum Leap actor Scott Bakula as Captain Archer and is set before the original 1960s Star Trek series.But fans around the world have pitched in to pay for the advert, which had the headline \"Save Star Trek\".The advert described the Star Trek franchise as a \"cultural icon\".The 98th and final episode of Star Trek: Enterprise will air in the US on 13 May.  \n",
       "4  Will Smith co-stars alongside more CGI robots than you can count and as a thrill-a-minute kind of action film, it's perfectly adequate.Unusually for this kind of film, the extras don't solely concentrate on the special effects.But as long as you're not expecting a documentary, live with it: King Arthur is a fun, exciting, totally shallow experience and looks excellent.Only one man recognises that robots are a threat to humanity - but that's fine because it only takes one man to save the day in the thriller I, Robot.Admit it, the fact that this is one of the shows Alan Titchmarsh left Ground Force to present did mean that you expected something equally frothy.It's at its best in its battle scenes which are well done and are also the best part of the Making Of extra.  "
      ]
     },
     "execution_count": 10,
     "metadata": {},
     "output_type": "execute_result"
    }
   ],
   "source": [
    "pd.options.display.max_colwidth = 1000\n",
    "df.head().get(['Sumy', 'Summaries'])"
   ]
  }
 ],
 "metadata": {
  "kernelspec": {
   "display_name": "Python 3 (ipykernel)",
   "language": "python",
   "name": "python3"
  },
  "language_info": {
   "codemirror_mode": {
    "name": "ipython",
    "version": 3
   },
   "file_extension": ".py",
   "mimetype": "text/x-python",
   "name": "python",
   "nbconvert_exporter": "python",
   "pygments_lexer": "ipython3",
   "version": "3.8.10"
  },
  "papermill": {
   "default_parameters": {},
   "duration": 186.689702,
   "end_time": "2021-11-21T23:40:54.181681",
   "environment_variables": {},
   "exception": null,
   "input_path": "__notebook__.ipynb",
   "output_path": "__notebook__.ipynb",
   "parameters": {},
   "start_time": "2021-11-21T23:37:47.491979",
   "version": "2.3.3"
  }
 },
 "nbformat": 4,
 "nbformat_minor": 5
}
