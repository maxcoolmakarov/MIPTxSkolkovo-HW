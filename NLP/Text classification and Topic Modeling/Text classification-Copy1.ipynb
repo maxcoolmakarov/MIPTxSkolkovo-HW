{
 "cells": [
  {
   "cell_type": "markdown",
   "id": "b2c53411",
   "metadata": {},
   "source": [
    "# Text classification using FastText"
   ]
  },
  {
   "cell_type": "markdown",
   "id": "f279f6d6",
   "metadata": {},
   "source": [
    "First of all we should prepare our text data in format where each block starts with \"\\__label__\""
   ]
  },
  {
   "cell_type": "code",
   "execution_count": 1,
   "id": "9d0a11c9",
   "metadata": {},
   "outputs": [],
   "source": [
    "import re\n",
    "\n",
    "label = re.compile(r'LABEL=\\d+')\n",
    "operator = re.compile(r'OPER \\[.+\\] .+$')\n",
    "with open(\"test.txt\") as inp:\n",
    "    with open(\"test_prep2.txt\", 'w') as outp:\n",
    "        for dialog in inp.read().split('\\n\\n'):\n",
    "            for line in dialog.split('\\n'):\n",
    "                pos = line.find(\"'|'\")\n",
    "                if pos > -1:\n",
    "                    line = line[:pos]\n",
    "                for lab in label.findall(line):                    \n",
    "                    outp.write(\"__label__%s\" %lab[6])\n",
    "#                     print(\"__%s__\" %lab.lower())\n",
    "                for oper in operator.findall(line):\n",
    "                    outp.write(' ')\n",
    "                    outp.write(oper[20:])\n",
    "#                     print(oper[20:])\n",
    "            outp.write('\\n')"
   ]
  },
  {
   "cell_type": "code",
   "execution_count": 2,
   "id": "edb00f3d",
   "metadata": {},
   "outputs": [],
   "source": [
    "label = re.compile(r'LABEL=\\d+')\n",
    "operator = re.compile(r'OPER \\[.+\\] .+$')\n",
    "with open(\"train.txt\") as inp:\n",
    "    with open(\"train_prep2.txt\", 'w') as outp:\n",
    "        for dialog in inp.read().split('\\n\\n'):\n",
    "            for line in dialog.split('\\n'):\n",
    "                pos = line.find(\"'|'\")\n",
    "                if pos > -1:\n",
    "                    line = line[:pos]\n",
    "                for lab in label.findall(line):                    \n",
    "                    outp.write(\"__label__%s\" %lab[6])\n",
    "#                     print(\"__%s__\" %lab.lower())\n",
    "                for oper in operator.findall(line):\n",
    "                    outp.write(' ')\n",
    "                    outp.write(oper[20:])\n",
    "#                     print(oper[20:])\n",
    "            outp.write('\\n')\n",
    "    "
   ]
  },
  {
   "cell_type": "code",
   "execution_count": 4,
   "id": "cb46b8fe",
   "metadata": {},
   "outputs": [],
   "source": [
    "import fasttext"
   ]
  },
  {
   "cell_type": "code",
   "execution_count": 5,
   "id": "fe6b9303",
   "metadata": {},
   "outputs": [
    {
     "name": "stderr",
     "output_type": "stream",
     "text": [
      "Progress: 100.0% Trials:   18 Best score:  1.000000 ETA:   0h 0m 0s\n",
      "Training again with best arguments\n",
      "Read 0M words\n",
      "Number of words:  17609\n",
      "Number of labels: 2\n",
      "Progress: 100.0% words/sec/thread:  938100 lr:  0.000000 avg.loss:  0.069211 ETA:   0h 0m 0s\n"
     ]
    }
   ],
   "source": [
    "model = fasttext.train_supervised(input=\"train_prep2.txt\", autotuneValidationFile='valid_prep2.txt')"
   ]
  },
  {
   "cell_type": "code",
   "execution_count": 6,
   "id": "7165d858",
   "metadata": {},
   "outputs": [
    {
     "data": {
      "text/plain": [
       "(484, 0.9276859504132231, 0.9276859504132231)"
      ]
     },
     "execution_count": 6,
     "metadata": {},
     "output_type": "execute_result"
    }
   ],
   "source": [
    "model.test(\"test_prep.txt\")"
   ]
  },
  {
   "cell_type": "code",
   "execution_count": 7,
   "id": "552bed07",
   "metadata": {},
   "outputs": [],
   "source": [
    "import numpy as np"
   ]
  },
  {
   "cell_type": "code",
   "execution_count": 8,
   "id": "f35e67e6",
   "metadata": {},
   "outputs": [],
   "source": [
    "y_true = np.array([])\n",
    "y_pred = np.array([])\n",
    "with open(\"test_prep.txt\", \"r\", encoding=\"utf-8\") as f:\n",
    "    for line in f:\n",
    "        labels, probs = model.predict(line.strip())\n",
    "        if labels[0] == \"__label__0\":\n",
    "            y_pred = np.append(y_pred, 0)\n",
    "        else:\n",
    "            y_pred = np.append(y_pred, 1)\n",
    "        if line.startswith(\"__label__1\"):\n",
    "            y_true = np.append(y_true, 1)\n",
    "        else:\n",
    "            y_true = np.append(y_true, 0)"
   ]
  },
  {
   "cell_type": "code",
   "execution_count": 9,
   "id": "a930a125",
   "metadata": {},
   "outputs": [
    {
     "data": {
      "text/plain": [
       "0.9144254278728605"
      ]
     },
     "execution_count": 9,
     "metadata": {},
     "output_type": "execute_result"
    }
   ],
   "source": [
    "from sklearn.metrics import f1_score\n",
    "f1_score(y_true, y_pred)"
   ]
  },
  {
   "cell_type": "code",
   "execution_count": null,
   "id": "7cc132fb",
   "metadata": {},
   "outputs": [],
   "source": []
  }
 ],
 "metadata": {
  "kernelspec": {
   "display_name": "Python 3 (ipykernel)",
   "language": "python",
   "name": "python3"
  },
  "language_info": {
   "codemirror_mode": {
    "name": "ipython",
    "version": 3
   },
   "file_extension": ".py",
   "mimetype": "text/x-python",
   "name": "python",
   "nbconvert_exporter": "python",
   "pygments_lexer": "ipython3",
   "version": "3.8.10"
  }
 },
 "nbformat": 4,
 "nbformat_minor": 5
}
