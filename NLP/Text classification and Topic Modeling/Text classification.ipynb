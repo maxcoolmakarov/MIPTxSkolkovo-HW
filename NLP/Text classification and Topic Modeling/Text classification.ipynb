{
 "cells": [
  {
   "cell_type": "markdown",
   "id": "459962ec",
   "metadata": {},
   "source": [
    "# Text classification using FastText"
   ]
  },
  {
   "cell_type": "markdown",
   "id": "07bbfaf7",
   "metadata": {},
   "source": [
    "First of all we should prepare our text data in format where each block starts with \"\\__label__\""
   ]
  },
  {
   "cell_type": "code",
   "execution_count": 30,
   "id": "991cf4e0",
   "metadata": {},
   "outputs": [],
   "source": [
    "import re\n",
    "\n",
    "label = re.compile(r'LABEL=\\d+')\n",
    "operator = re.compile(r'OPER \\[.+\\] .+$')\n",
    "with open(\"test.txt\") as inp:\n",
    "    with open(\"test_prep.txt\", 'w') as outp:\n",
    "        for dialog in inp.read().split('\\n\\n'):\n",
    "            for line in dialog.split('\\n'):\n",
    "                pos = line.find(\"'|'\")\n",
    "                if pos > -1:\n",
    "                    line = line[:pos]\n",
    "                for lab in label.findall(line):                    \n",
    "                    outp.write(\"__label__%s\" %lab[6])\n",
    "#                     print(\"__%s__\" %lab.lower())\n",
    "                for oper in operator.findall(line):\n",
    "                    outp.write(' ')\n",
    "                    outp.write(oper[20:])\n",
    "#                     print(oper[20:])\n",
    "            outp.write('\\n')"
   ]
  },
  {
   "cell_type": "code",
   "execution_count": 35,
   "id": "8c80ca58",
   "metadata": {},
   "outputs": [],
   "source": [
    "label = re.compile(r'LABEL=\\d+')\n",
    "operator = re.compile(r'OPER \\[.+\\] .+$')\n",
    "with open(\"train.txt\") as inp:\n",
    "    with open(\"train_prep.txt\", 'w') as outp:\n",
    "        for dialog in inp.read().split('\\n\\n'):\n",
    "            for line in dialog.split('\\n'):\n",
    "                pos = line.find(\"'|'\")\n",
    "                if pos > -1:\n",
    "                    line = line[:pos]\n",
    "                for lab in label.findall(line):                    \n",
    "                    outp.write(\"__label__%s\" %lab[6])\n",
    "#                     print(\"__%s__\" %lab.lower())\n",
    "                for oper in operator.findall(line):\n",
    "                    outp.write(' ')\n",
    "                    outp.write(oper[20:])\n",
    "#                     print(oper[20:])\n",
    "            outp.write('\\n')\n",
    "    "
   ]
  },
  {
   "cell_type": "code",
   "execution_count": 3,
   "id": "807ffa8c",
   "metadata": {},
   "outputs": [],
   "source": [
    "import fasttext"
   ]
  },
  {
   "cell_type": "code",
   "execution_count": 43,
   "id": "1559b1ae",
   "metadata": {},
   "outputs": [
    {
     "name": "stderr",
     "output_type": "stream",
     "text": [
      "Progress: 100.0% Trials:   13 Best score:  0.925000 ETA:   0h 0m 0s\n",
      "Training again with best arguments\n",
      "Read 0M words\n",
      "Number of words:  16756\n",
      "Number of labels: 2\n",
      "Progress: 100.0% words/sec/thread:  352077 lr:  0.000000 avg.loss:  0.123118 ETA:   0h 0m 0s\n"
     ]
    }
   ],
   "source": [
    "model = fasttext.train_supervised(input=\"train_prep2.txt\", autotuneValidationFile='valid_prep2.txt')"
   ]
  },
  {
   "cell_type": "code",
   "execution_count": 44,
   "id": "43e59ba2",
   "metadata": {},
   "outputs": [
    {
     "data": {
      "text/plain": [
       "(484, 0.9318181818181818, 0.9318181818181818)"
      ]
     },
     "execution_count": 44,
     "metadata": {},
     "output_type": "execute_result"
    }
   ],
   "source": [
    "model.test(\"test_prep.txt\")"
   ]
  },
  {
   "cell_type": "code",
   "execution_count": 40,
   "id": "1833a090",
   "metadata": {},
   "outputs": [],
   "source": [
    "import numpy as np"
   ]
  },
  {
   "cell_type": "code",
   "execution_count": 47,
   "id": "6372db01",
   "metadata": {},
   "outputs": [],
   "source": [
    "y_true = np.array([])\n",
    "y_pred = np.array([])\n",
    "with open(\"test_prep.txt\", \"r\", encoding=\"utf-8\") as f:\n",
    "    for line in f:\n",
    "        if len(line) > 11:\n",
    "            labels, probs = model.predict(line.strip())\n",
    "            if labels[0] == \"__label__0\":\n",
    "                y_pred = np.append(y_pred, 0)\n",
    "            else:\n",
    "                y_pred = np.append(y_pred, 1)\n",
    "            if line.startswith(\"__label__1\"):\n",
    "                y_true = np.append(y_true, 1)\n",
    "            else:\n",
    "                y_true = np.append(y_true, 0)"
   ]
  },
  {
   "cell_type": "code",
   "execution_count": 48,
   "id": "08aba97e",
   "metadata": {},
   "outputs": [
    {
     "data": {
      "text/plain": [
       "0.9193154034229829"
      ]
     },
     "execution_count": 48,
     "metadata": {},
     "output_type": "execute_result"
    }
   ],
   "source": [
    "from sklearn.metrics import f1_score\n",
    "f1_score(y_true, y_pred)"
   ]
  },
  {
   "cell_type": "code",
   "execution_count": null,
   "id": "08f056e1",
   "metadata": {},
   "outputs": [],
   "source": []
  }
 ],
 "metadata": {
  "kernelspec": {
   "display_name": "Python 3 (ipykernel)",
   "language": "python",
   "name": "python3"
  },
  "language_info": {
   "codemirror_mode": {
    "name": "ipython",
    "version": 3
   },
   "file_extension": ".py",
   "mimetype": "text/x-python",
   "name": "python",
   "nbconvert_exporter": "python",
   "pygments_lexer": "ipython3",
   "version": "3.8.10"
  }
 },
 "nbformat": 4,
 "nbformat_minor": 5
}
